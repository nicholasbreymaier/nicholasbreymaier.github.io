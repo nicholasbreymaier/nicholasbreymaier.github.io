{
  "nbformat": 4,
  "nbformat_minor": 0,
  "metadata": {
    "colab": {
      "provenance": []
    },
    "kernelspec": {
      "name": "python3",
      "display_name": "Python 3"
    },
    "language_info": {
      "name": "python"
    }
  },
  "cells": [
    {
      "cell_type": "markdown",
      "source": [
        "# **The Effects of Automobile Dependency in the United States**\n",
        "## Contributors: Nicholas Breymaier and Zachary Osborne\n",
        "Nicholas UID: 117920871 \\\\\n",
        "Zachary UID: 117941609"
      ],
      "metadata": {
        "id": "jg0AmjXTqGaQ"
      }
    },
    {
      "cell_type": "markdown",
      "source": [
        "# Introduction\n",
        "A place, ranging from a neighborhood-scale to nation-scale geographic area, is referred to as automobile dependent, or car dependent, when the only means by which residents are realistically capable of reaching necessities is by driving a personal automobile. By necessities we mean any locations necessary to live a successful life in modern society, such as institutions of education, jobs, and grocery stores.\n",
        "\n",
        "This analysis will focus prinarily on automobile dependency in the United States, but data from other countries will be used for comparative purposes.\n",
        "\n",
        "## The Importance of Automobile Dependency\n",
        "Some of the information presented in this section is drawn directly from the datasets we analyze in this project, and will be cited as such. Please see the bibliography at the end of this document/website for sources.\n",
        "\n",
        "## Relevance in the Field of Data Science\n",
        "Coverage by the major media institutions in the United States fails to correlate with what Americans die from (!cite 1). Among other things, the need for major media institutions to \"keep up\" with the incessant and immediate news which is able to be transmitted via social media has lead to institutions (!cite) switching to more eyecatching topics to maintain viewership and therefore advertisement revenue. Relying on the media is therefore not an effective way to build public awareness about systemic problems.\n",
        "\n",
        "Data Science offers a promising alternative medium of news coverage as opposed to televised reports transmitted by major media corporations and news transmitted via social media because it is significantly less prone to outlier bias. This project hopes to demonstrate that data science can be used to generate awareness about important yet overlooked societal issues by doing so with car dependency."
      ],
      "metadata": {
        "id": "dUJ94wXHtOsj"
      }
    },
    {
      "cell_type": "markdown",
      "source": [
        "# Step 1: Data Collection\n",
        "Thankfully, the US National Highway Traffic Safety Administration (NHTSA) keeps detailed data related to traffic fatalities, which serves as a good starting point for discussing the problem of car dependency."
      ],
      "metadata": {
        "id": "27oRouFi6Pkf"
      }
    },
    {
      "cell_type": "markdown",
      "source": [
        "https://www-fars.nhtsa.dot.gov/Main/index.aspx"
      ],
      "metadata": {
        "id": "1eTkEYQXBcGx"
      }
    },
    {
      "cell_type": "code",
      "source": [
        "import requests\n",
        "from bs4 import BeautifulSoup as bs\n",
        "import pandas as pd\n",
        "\n",
        "# # Use the python requests library to extract the data from the website.\n",
        "# web_extract = requests.get(\n",
        "#     'https://www-fars.nhtsa.dot.gov/Main/index.aspx').text\n",
        "\n",
        "# # Organise and make legible the extracted html using the BeautifulSoup library.\n",
        "# web_extract = bs(web_extract)\n",
        "# web_extract.prettify()\n",
        "\n",
        "# loci = web_extract.find('table')\n",
        "\n",
        "# # Extract the html tables into pandas dataframes. Tables 1–9 were\n",
        "# # stylistic elements in the website.\n",
        "# nhtsa_data = pd.read_html(str(loci))[10]\n",
        "\n",
        "nhtsa_data = pd.read_feather('nhtsa_data.feather')\n",
        "nhtsa_data.head();"
      ],
      "metadata": {
        "id": "7QkCv-vGpShb"
      },
      "execution_count": 25,
      "outputs": []
    },
    {
      "cell_type": "markdown",
      "source": [
        "# Step 2: Data Processing\n",
        "The NHTSA crash fatality data we extracted is far from tidy, so we shall clean and organise it here. \n",
        "\n",
        "Firstly, this DataFrame holds features in its rows and observations in its columns. Obervations are, in this case, years. We therefore transpose the dataframe to make the rows observations and the columns features."
      ],
      "metadata": {
        "id": "lW3zFizV6Xvp"
      }
    },
    {
      "cell_type": "code",
      "source": [
        "# We will want these to be the column labels after transposing the DataFrame.\n",
        "nhtsa_data = nhtsa_data.set_index('Unnamed: 0')\n",
        "\n",
        "# Transpose the DataFrame.\n",
        "nhtsa_data = nhtsa_data.transpose()\n",
        "\n",
        "# Rename index column to 'Year' and sort data chronologically.\n",
        "nhtsa_data.columns.names = ['Year']\n",
        "nhtsa_data = nhtsa_data.sort_index()\n",
        "\n",
        "nhtsa_data.head();"
      ],
      "metadata": {
        "id": "N2cgApb56dvz"
      },
      "execution_count": 26,
      "outputs": []
    },
    {
      "cell_type": "markdown",
      "source": [
        "The original data table groups its features into various categories via extra, empty features which essentially function as \"headers\". This is a very messy way to do this, and furthermore having the categorization within the table is unnecessary. Here, we remove the unnecessary columns and rename the rest for clarity and to preserve information which would otherwise have been lost during the purging of the headers."
      ],
      "metadata": {
        "id": "8gYvkVydhWIk"
      }
    },
    {
      "cell_type": "code",
      "source": [
        "# Drop empty header columns.\n",
        "columns_to_remove = [\n",
        "    'Motor Vehicle Traffic Crashes', \n",
        "    'Traffic Crash Fatalities',\n",
        "    'Vehicle Occupants', \n",
        "    'Nonmotorists',\n",
        "    'Other National Statistics', \n",
        "    'National Rates: Fatalities'\n",
        "]\n",
        "nhtsa_data.drop(columns=columns_to_remove, inplace=True)\n",
        "\n",
        "# Rename remaining columns for clarity using multi-indexing.\n",
        "#TODO!\n",
        "\n",
        "nhtsa_data.head()"
      ],
      "metadata": {
        "colab": {
          "base_uri": "https://localhost:8080/",
          "height": 357
        },
        "id": "IuhJfn7KhIw-",
        "outputId": "b80f6f9d-f040-4481-989f-ffeed3905c53"
      },
      "execution_count": 27,
      "outputs": [
        {
          "output_type": "execute_result",
          "data": {
            "text/plain": [
              "Year  Fatal Crashes  Drivers  Passengers  Unknown  Sub Total1  Motorcyclists  \\\n",
              "1994        36254.0  21596.0     10294.0    108.0     31998.0         2320.0   \n",
              "1995        37241.0  22370.0     10576.0    118.0     33064.0         2227.0   \n",
              "1996        37494.0  22572.0     10860.0    102.0     33534.0         2161.0   \n",
              "1997        37324.0  22730.0     10765.0    114.0     33609.0         2116.0   \n",
              "1998        37107.0  22654.0     10327.0    107.0     33088.0         2294.0   \n",
              "\n",
              "Year  Pedestrians  Pedalcyclists  Other/ Unknown  Sub Total2   Total*  \\\n",
              "1994       5489.0          802.0           107.0      6398.0  40716.0   \n",
              "1995       5584.0          833.0           109.0      6526.0  41817.0   \n",
              "1996       5449.0          765.0           154.0      6368.0  42065.0   \n",
              "1997       5321.0          814.0           153.0      6288.0  42013.0   \n",
              "1998       5228.0          760.0           131.0      6119.0  41501.0   \n",
              "\n",
              "Year  Vehicle Miles Traveled (Billions)  Resident Population (Thousands)  \\\n",
              "1994                             2358.0                         260327.0   \n",
              "1995                             2423.0                         262803.0   \n",
              "1996                             2484.0                         265229.0   \n",
              "1997                             2552.0                         267784.0   \n",
              "1998                             2628.0                         270248.0   \n",
              "\n",
              "Year  Registered Vehicles (Thousands)  Licensed Drivers (Thousands)  \\\n",
              "1994                         192497.0                      175403.0   \n",
              "1995                         197065.0                      176628.0   \n",
              "1996                         201631.0                      179539.0   \n",
              "1997                         203568.0                      182709.0   \n",
              "1998                         208076.0                      184861.0   \n",
              "\n",
              "Year  Fatalities per 100 Million Vehicle Miles Traveled  \\\n",
              "1994                                               1.73   \n",
              "1995                                               1.73   \n",
              "1996                                               1.69   \n",
              "1997                                               1.65   \n",
              "1998                                               1.58   \n",
              "\n",
              "Year  Fatalities per 100,000 Population  \\\n",
              "1994                              15.64   \n",
              "1995                              15.91   \n",
              "1996                              15.86   \n",
              "1997                              15.69   \n",
              "1998                              15.36   \n",
              "\n",
              "Year  Fatalities per 100,000 Registered Vehicles  \\\n",
              "1994                                       21.15   \n",
              "1995                                       21.22   \n",
              "1996                                       20.86   \n",
              "1997                                       20.64   \n",
              "1998                                       19.95   \n",
              "\n",
              "Year  Fatalities per 100,000 Licensed Drivers  \n",
              "1994                                    23.21  \n",
              "1995                                    23.68  \n",
              "1996                                    23.43  \n",
              "1997                                    22.99  \n",
              "1998                                    22.45  "
            ],
            "text/html": [
              "\n",
              "  <div id=\"df-d05473bc-5eac-43c2-bf77-f017a954612a\">\n",
              "    <div class=\"colab-df-container\">\n",
              "      <div>\n",
              "<style scoped>\n",
              "    .dataframe tbody tr th:only-of-type {\n",
              "        vertical-align: middle;\n",
              "    }\n",
              "\n",
              "    .dataframe tbody tr th {\n",
              "        vertical-align: top;\n",
              "    }\n",
              "\n",
              "    .dataframe thead th {\n",
              "        text-align: right;\n",
              "    }\n",
              "</style>\n",
              "<table border=\"1\" class=\"dataframe\">\n",
              "  <thead>\n",
              "    <tr style=\"text-align: right;\">\n",
              "      <th>Year</th>\n",
              "      <th>Fatal Crashes</th>\n",
              "      <th>Drivers</th>\n",
              "      <th>Passengers</th>\n",
              "      <th>Unknown</th>\n",
              "      <th>Sub Total1</th>\n",
              "      <th>Motorcyclists</th>\n",
              "      <th>Pedestrians</th>\n",
              "      <th>Pedalcyclists</th>\n",
              "      <th>Other/ Unknown</th>\n",
              "      <th>Sub Total2</th>\n",
              "      <th>Total*</th>\n",
              "      <th>Vehicle Miles Traveled (Billions)</th>\n",
              "      <th>Resident Population (Thousands)</th>\n",
              "      <th>Registered Vehicles (Thousands)</th>\n",
              "      <th>Licensed Drivers (Thousands)</th>\n",
              "      <th>Fatalities per 100 Million Vehicle Miles Traveled</th>\n",
              "      <th>Fatalities per 100,000 Population</th>\n",
              "      <th>Fatalities per 100,000 Registered Vehicles</th>\n",
              "      <th>Fatalities per 100,000 Licensed Drivers</th>\n",
              "    </tr>\n",
              "  </thead>\n",
              "  <tbody>\n",
              "    <tr>\n",
              "      <th>1994</th>\n",
              "      <td>36254.0</td>\n",
              "      <td>21596.0</td>\n",
              "      <td>10294.0</td>\n",
              "      <td>108.0</td>\n",
              "      <td>31998.0</td>\n",
              "      <td>2320.0</td>\n",
              "      <td>5489.0</td>\n",
              "      <td>802.0</td>\n",
              "      <td>107.0</td>\n",
              "      <td>6398.0</td>\n",
              "      <td>40716.0</td>\n",
              "      <td>2358.0</td>\n",
              "      <td>260327.0</td>\n",
              "      <td>192497.0</td>\n",
              "      <td>175403.0</td>\n",
              "      <td>1.73</td>\n",
              "      <td>15.64</td>\n",
              "      <td>21.15</td>\n",
              "      <td>23.21</td>\n",
              "    </tr>\n",
              "    <tr>\n",
              "      <th>1995</th>\n",
              "      <td>37241.0</td>\n",
              "      <td>22370.0</td>\n",
              "      <td>10576.0</td>\n",
              "      <td>118.0</td>\n",
              "      <td>33064.0</td>\n",
              "      <td>2227.0</td>\n",
              "      <td>5584.0</td>\n",
              "      <td>833.0</td>\n",
              "      <td>109.0</td>\n",
              "      <td>6526.0</td>\n",
              "      <td>41817.0</td>\n",
              "      <td>2423.0</td>\n",
              "      <td>262803.0</td>\n",
              "      <td>197065.0</td>\n",
              "      <td>176628.0</td>\n",
              "      <td>1.73</td>\n",
              "      <td>15.91</td>\n",
              "      <td>21.22</td>\n",
              "      <td>23.68</td>\n",
              "    </tr>\n",
              "    <tr>\n",
              "      <th>1996</th>\n",
              "      <td>37494.0</td>\n",
              "      <td>22572.0</td>\n",
              "      <td>10860.0</td>\n",
              "      <td>102.0</td>\n",
              "      <td>33534.0</td>\n",
              "      <td>2161.0</td>\n",
              "      <td>5449.0</td>\n",
              "      <td>765.0</td>\n",
              "      <td>154.0</td>\n",
              "      <td>6368.0</td>\n",
              "      <td>42065.0</td>\n",
              "      <td>2484.0</td>\n",
              "      <td>265229.0</td>\n",
              "      <td>201631.0</td>\n",
              "      <td>179539.0</td>\n",
              "      <td>1.69</td>\n",
              "      <td>15.86</td>\n",
              "      <td>20.86</td>\n",
              "      <td>23.43</td>\n",
              "    </tr>\n",
              "    <tr>\n",
              "      <th>1997</th>\n",
              "      <td>37324.0</td>\n",
              "      <td>22730.0</td>\n",
              "      <td>10765.0</td>\n",
              "      <td>114.0</td>\n",
              "      <td>33609.0</td>\n",
              "      <td>2116.0</td>\n",
              "      <td>5321.0</td>\n",
              "      <td>814.0</td>\n",
              "      <td>153.0</td>\n",
              "      <td>6288.0</td>\n",
              "      <td>42013.0</td>\n",
              "      <td>2552.0</td>\n",
              "      <td>267784.0</td>\n",
              "      <td>203568.0</td>\n",
              "      <td>182709.0</td>\n",
              "      <td>1.65</td>\n",
              "      <td>15.69</td>\n",
              "      <td>20.64</td>\n",
              "      <td>22.99</td>\n",
              "    </tr>\n",
              "    <tr>\n",
              "      <th>1998</th>\n",
              "      <td>37107.0</td>\n",
              "      <td>22654.0</td>\n",
              "      <td>10327.0</td>\n",
              "      <td>107.0</td>\n",
              "      <td>33088.0</td>\n",
              "      <td>2294.0</td>\n",
              "      <td>5228.0</td>\n",
              "      <td>760.0</td>\n",
              "      <td>131.0</td>\n",
              "      <td>6119.0</td>\n",
              "      <td>41501.0</td>\n",
              "      <td>2628.0</td>\n",
              "      <td>270248.0</td>\n",
              "      <td>208076.0</td>\n",
              "      <td>184861.0</td>\n",
              "      <td>1.58</td>\n",
              "      <td>15.36</td>\n",
              "      <td>19.95</td>\n",
              "      <td>22.45</td>\n",
              "    </tr>\n",
              "  </tbody>\n",
              "</table>\n",
              "</div>\n",
              "      <button class=\"colab-df-convert\" onclick=\"convertToInteractive('df-d05473bc-5eac-43c2-bf77-f017a954612a')\"\n",
              "              title=\"Convert this dataframe to an interactive table.\"\n",
              "              style=\"display:none;\">\n",
              "        \n",
              "  <svg xmlns=\"http://www.w3.org/2000/svg\" height=\"24px\"viewBox=\"0 0 24 24\"\n",
              "       width=\"24px\">\n",
              "    <path d=\"M0 0h24v24H0V0z\" fill=\"none\"/>\n",
              "    <path d=\"M18.56 5.44l.94 2.06.94-2.06 2.06-.94-2.06-.94-.94-2.06-.94 2.06-2.06.94zm-11 1L8.5 8.5l.94-2.06 2.06-.94-2.06-.94L8.5 2.5l-.94 2.06-2.06.94zm10 10l.94 2.06.94-2.06 2.06-.94-2.06-.94-.94-2.06-.94 2.06-2.06.94z\"/><path d=\"M17.41 7.96l-1.37-1.37c-.4-.4-.92-.59-1.43-.59-.52 0-1.04.2-1.43.59L10.3 9.45l-7.72 7.72c-.78.78-.78 2.05 0 2.83L4 21.41c.39.39.9.59 1.41.59.51 0 1.02-.2 1.41-.59l7.78-7.78 2.81-2.81c.8-.78.8-2.07 0-2.86zM5.41 20L4 18.59l7.72-7.72 1.47 1.35L5.41 20z\"/>\n",
              "  </svg>\n",
              "      </button>\n",
              "      \n",
              "  <style>\n",
              "    .colab-df-container {\n",
              "      display:flex;\n",
              "      flex-wrap:wrap;\n",
              "      gap: 12px;\n",
              "    }\n",
              "\n",
              "    .colab-df-convert {\n",
              "      background-color: #E8F0FE;\n",
              "      border: none;\n",
              "      border-radius: 50%;\n",
              "      cursor: pointer;\n",
              "      display: none;\n",
              "      fill: #1967D2;\n",
              "      height: 32px;\n",
              "      padding: 0 0 0 0;\n",
              "      width: 32px;\n",
              "    }\n",
              "\n",
              "    .colab-df-convert:hover {\n",
              "      background-color: #E2EBFA;\n",
              "      box-shadow: 0px 1px 2px rgba(60, 64, 67, 0.3), 0px 1px 3px 1px rgba(60, 64, 67, 0.15);\n",
              "      fill: #174EA6;\n",
              "    }\n",
              "\n",
              "    [theme=dark] .colab-df-convert {\n",
              "      background-color: #3B4455;\n",
              "      fill: #D2E3FC;\n",
              "    }\n",
              "\n",
              "    [theme=dark] .colab-df-convert:hover {\n",
              "      background-color: #434B5C;\n",
              "      box-shadow: 0px 1px 3px 1px rgba(0, 0, 0, 0.15);\n",
              "      filter: drop-shadow(0px 1px 2px rgba(0, 0, 0, 0.3));\n",
              "      fill: #FFFFFF;\n",
              "    }\n",
              "  </style>\n",
              "\n",
              "      <script>\n",
              "        const buttonEl =\n",
              "          document.querySelector('#df-d05473bc-5eac-43c2-bf77-f017a954612a button.colab-df-convert');\n",
              "        buttonEl.style.display =\n",
              "          google.colab.kernel.accessAllowed ? 'block' : 'none';\n",
              "\n",
              "        async function convertToInteractive(key) {\n",
              "          const element = document.querySelector('#df-d05473bc-5eac-43c2-bf77-f017a954612a');\n",
              "          const dataTable =\n",
              "            await google.colab.kernel.invokeFunction('convertToInteractive',\n",
              "                                                     [key], {});\n",
              "          if (!dataTable) return;\n",
              "\n",
              "          const docLinkHtml = 'Like what you see? Visit the ' +\n",
              "            '<a target=\"_blank\" href=https://colab.research.google.com/notebooks/data_table.ipynb>data table notebook</a>'\n",
              "            + ' to learn more about interactive tables.';\n",
              "          element.innerHTML = '';\n",
              "          dataTable['output_type'] = 'display_data';\n",
              "          await google.colab.output.renderOutput(dataTable, element);\n",
              "          const docLink = document.createElement('div');\n",
              "          docLink.innerHTML = docLinkHtml;\n",
              "          element.appendChild(docLink);\n",
              "        }\n",
              "      </script>\n",
              "    </div>\n",
              "  </div>\n",
              "  "
            ]
          },
          "metadata": {},
          "execution_count": 27
        }
      ]
    },
    {
      "cell_type": "markdown",
      "source": [
        "# Step 3: Exploratory Analysis & Data Visualization"
      ],
      "metadata": {
        "id": "1SvbLcja6bOc"
      }
    },
    {
      "cell_type": "code",
      "source": [
        "nhtsa_data.plot(y='Fatal Crashes');"
      ],
      "metadata": {
        "id": "1EXjTol_6eP5",
        "colab": {
          "base_uri": "https://localhost:8080/",
          "height": 430
        },
        "outputId": "1fccd32a-6cfb-40e4-e2d1-3fd1a9e951d8"
      },
      "execution_count": null,
      "outputs": [
        {
          "output_type": "display_data",
          "data": {
            "text/plain": [
              "<Figure size 640x480 with 1 Axes>"
            ],
            "image/png": "[encoded data removed]"
          },
          "metadata": {}
        }
      ]
    },
    {
      "cell_type": "markdown",
      "source": [
        "# Step 4: Modeling and Further Analysis with Machine Learning and Statistics"
      ],
      "metadata": {
        "id": "XCeNi8ow6oQ8"
      }
    },
    {
      "cell_type": "code",
      "source": [],
      "metadata": {
        "id": "cR8livnT64Mf"
      },
      "execution_count": null,
      "outputs": []
    },
    {
      "cell_type": "markdown",
      "source": [
        "# Step 5: Data Interpretation and Insight"
      ],
      "metadata": {
        "id": "RI3CDbzp6umC"
      }
    },
    {
      "cell_type": "code",
      "source": [],
      "metadata": {
        "id": "QbmXnuCn63vy"
      },
      "execution_count": null,
      "outputs": []
    },
    {
      "cell_type": "markdown",
      "source": [
        "# Further Information for the Inquisitive Reader\n",
        "\n",
        "There are many advocates and advocacy groups, from local international, fighting to spread awareness about this issue and push for solutions to be implemented. Here a few are listed:\n",
        "> * <a href='https://www.youtube.com/@NotJustBikes/featured'> Not Just Bikes</a>, courtesy of Jason Slaughter \\\\\n",
        "> Becoming the most popular 'urban planning' channel on YouTube as of 2022, Not Just Bikes explores dutch city design \n"
      ],
      "metadata": {
        "id": "PqcD84UvOmgS"
      }
    },
    {
      "cell_type": "markdown",
      "source": [
        "# Bibliography\n",
        "https://ourworldindata.org/does-the-news-reflect-what-we-die-from 1\n",
        "https://www-fars.nhtsa.dot.gov/Main/index.aspx \\\\ 2\n",
        "https://nepis.epa.gov/Exe/ZyPDF.cgi?Dockey=P1013L1O.pdf 3"
      ],
      "metadata": {
        "id": "NFM1sWxxJDsP"
      }
    }
  ]
}
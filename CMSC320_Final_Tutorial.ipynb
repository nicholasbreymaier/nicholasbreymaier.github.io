{
  "cells": [
    {
      "attachments": {},
      "cell_type": "markdown",
      "metadata": {
        "id": "jg0AmjXTqGaQ"
      },
      "source": [
        "# **The Effects of Automobile Dependency in the United States**\n",
        "## Contributors: Nicholas Breymaier and Zachary Osborne\n",
        "Nicholas UID: 117920871 <br>\n",
        "Zachary UID: 117941609 <br>\n",
        "<a href='https://github.com/nicholasbreymaier/nicholasbreymaier.github.io'> Source Code </a>"
      ]
    },
    {
      "attachments": {},
      "cell_type": "markdown",
      "metadata": {
        "id": "dUJ94wXHtOsj"
      },
      "source": [
        "# Introduction\n",
        "A place, ranging from a neighborhood-scale to nation-scale geographic area, is referred to as <a href='https://www.planetizen.com/definition/automobile-dependency'>automobile dependent</a>, or car dependent, when the only means by which residents are realistically capable of reaching necessities is by driving a personal automobile. By necessities we mean any locations necessary to live a successful life in modern society, such as institutions of education, jobs, and grocery stores. For the purposes of this analysis, the term 'car' or 'automobile' includes standard sedans and station wagons as well as vans and <a href='https://www.ecfr.gov/current/title-40/chapter-I/subchapter-C/part-86/subpart-A/section-86.082-2'>light-duty trucks</a> such as Sport Utility Vehicles (SUVs) and pickup trucks.\n",
        "\n",
        "This project serves as an analysis of some of the conseqeuences of and alternatives to car dependency in the United States over time for the purpose of raising awareness, but is by no means meant to be a comprehensive review of the subject. For readers who are interested in learning more about the causes of car dependency and how to fix it, we strongly encourage that you do more research on the subject; the \"Further Information for Interested Readers\" section at the bottom of this webpage may serve as a good place to start.\n",
        "\n",
        "We will focus primarily on automobile dependency in the United States. We have chosen to work with data from recent years as opposed to longitudinal data in order to discuss recent trends which are more pertinent to living today than long-term trends which are more useful to historical analysis.\n",
        "\n",
        "## The Importance of Automobile Dependency in the United States\n",
        "Over <a href='https://www.forbes.com/advisor/car-insurance/car-ownership-statistics'>90%</a> of households in the United States (US) owned at least one car in 2021, with more than <a href='https://www.forbes.com/advisor/car-insurance/car-ownership-statistics/'>59%</a> owning two or more cars owing to the commonness of married couples having seperate jobs. In 2015, over <a href='https://www.bts.gov/content/commute-mode-share-2015'>80%</a> of commutes were taken by car, as were <a href=\"https://www.epa.gov/greenvehicles/what-if-more-people-bought-groceries-online-instead-driving-store\">88%</a> of grocery store trips. As of 2019, over <a href='https://www.bloomberg.com/news/articles/2019-05-07/how-distance-to-school-affects-student-well-being#:~:text=Today%2C%20nearly%2060%20percent%20of,especially%20on%20sleep%20and%20exercise.'>60%</a> of students in primary and secondary education are driven to school. These trends arise because the vast majority of Americans simply have no other choice but to reach their destinations by driving, whether this be due to distance<a href='https://www.nrc.gov/docs/ML1006/ML100621425.pdf'>—the average commute is 15 miles—</a>or to lack of safety, which we address in our analysis. In both of these cases, there is a complete lack of safe, convenient, long distance alternatives such as <a href='https://www.apta.com/news-publications/public-transportation-facts/'>public transportation</a>. In other words, the United States <a href='https://www.vox.com/22662963/end-driving-obsession-connectivity-zoning-parking'>is car dependent</a>.\n",
        "\n",
        "This is problematic for <a href ='https://www.strongtowns.org/journal/2015/1/20/the-negative-consequences-of-car-dependency#:~:text=Living%20in%20a%20car%20dependent,)%20and%20indirect%20(taxes.)'>many reasons</a>, the most dire of which are environmental, financial, and mortal—that is, deadly. We are in the middle of the <a href='https://www.who.int/health-topics/climate-change#tab=tab_1'>climate crisis</a> scientists have been warning us of for decades, with a dire and immediate need to halt carbon emissions and find ways to help the ecosphere heal from the damage we've already done. In the midst of this, with transportation being the <a href='https://www.epa.gov/ghgemissions/sources-greenhouse-gas-emissions'>largest contributor</a> to the US's carbon output, the US Department of Transportation is still <a href='https://highways.dot.gov/federal-lands/projects/by-state'>building and widening</a> highways in <a href='https://www.vtpi.org/gentraf.pdf'>futile</a> attempts to relieve incessant conjestion brought about by people having no alternatives to driving, the very construction process of which emits grand quantities of greenhouse gases. This project analyzes the financial and mortal costs of car dependency in the US in more detail below.\n",
        "\n",
        "## Relevance in the Field of Data Science\n",
        "Coverage of causes of death by major media institutions in the United States <a href='https://ourworldindata.org/does-the-news-reflect-what-we-die-from'>fails to correlate</a> with what Americans die from, with automobile fatalities and pollution induced illnesses being covered at significantly lower proportions than the proportion of deaths they cause. This is likely due in part to the need for major media companies to \"keep up\" with the incessant and immediate news which is able to be transmitted via social media, which has lead to companies disproportunately covering eye catching topics like homicide and terrorism to maintain viewership and therefore advertisement revenue. This is part of a larger <a href='https://www.gsb.stanford.edu/insights/media-consolidation-means-less-local-news-more-right-wing-slant'>trend</a> wherein media consolidation into the hands of large corporations causes news stations to prioritize national news as opposed to local news, and often leads to right-wing political slant in coverage. Moreover, major US news corporations increasingly fail to critically examine institutions in relation to societal problems, opting to either not discuss them at all or to atomize important events which are symptoms of larger problems, as may be seen in the coverage of the recent East Palestine <a href='https://en.wikipedia.org/wiki/2023_Ohio_train_derailment'>train derailment</a>. Relying on the media is therefore not an effective way to build public awareness about systemic, societal problems.\n",
        "\n",
        "Data Science offers a promising alternative medium of news coverage as opposed to major media corporations and news transmitted via social media because it is significantly <a href='https://fivethirtyeight.com/features/what-the-fox-knows/'>less prone to outlier bias</a>. It is capable of analyzing long-term macro-level trends that would take the culmination of thousands of traditional articles to reveal, much less communicate, and may be seen as more democratic than the privately owned media corporations which currently dominate the US news landscape. Anyone with the requisite knowledge, a computer, and internet access can use data science to bring issues to light. This project hopes to demonstrate that data science can be used to generate awareness about important yet overlooked societal issues by using it to do so with car dependency."
      ]
    },
    {
      "attachments": {},
      "cell_type": "markdown",
      "metadata": {
        "id": "27oRouFi6Pkf"
      },
      "source": [
        "# Step 1: Data Collection"
      ]
    },
    {
      "cell_type": "code",
      "execution_count": null,
      "metadata": {
        "id": "7QkCv-vGpShb"
      },
      "outputs": [],
      "source": [
        "# First and foremost, we must import the necessary libraries for data\n",
        "# collection, tidying, visualization, analysis, modeling, and interpreting.\n",
        "import requests\n",
        "from bs4 import BeautifulSoup as bs\n",
        "import pandas as pd\n",
        "import matplotlib.pyplot as plt\n",
        "import sklearn.linear_model as lin_mod\n",
        "\n",
        "# Supress some warnings which have no relevance to what we're doing to prevent \n",
        "# output cluttering.\n",
        "import warnings\n",
        "warnings.simplefilter('ignore', FutureWarning)"
      ]
    },
    {
      "attachments": {},
      "cell_type": "markdown",
      "metadata": {
        "id": "FOts-3-_45_N"
      },
      "source": [
        "\n",
        "Thankfully, the United States Department of Transportation (DOT) National Highway Traffic Safety Administration (NHTSA) keeps a nicely detailed <a href='https://www-fars.nhtsa.dot.gov/Main/index.aspx'> table</a> displayed on its website with data on traffic fatalities from 1994 to 2020. This serves as a good starting point for discussing the death toll of American automobile dependency."
      ]
    },
    {
      "cell_type": "code",
      "execution_count": null,
      "metadata": {
        "id": "S8LR9zmoofYE"
      },
      "outputs": [],
      "source": [
        "# Use the python requests library to extract the data from the website.\n",
        "web_extract = requests.get(\n",
        "    'https://www-fars.nhtsa.dot.gov/Main/index.aspx').text\n",
        "\n",
        "# Organise and make legible the extracted html using the BeautifulSoup library.\n",
        "web_extract = bs(web_extract)\n",
        "web_extract.prettify()\n",
        "\n",
        "loci = web_extract.find('table')\n",
        "\n",
        "# Extract the html tables into pandas dataframes. Tables 1–9 were\n",
        "# stylistic elements in the website.\n",
        "nhtsa_nat_stats = pd.read_html(str(loci))[10]"
      ]
    },
    {
      "attachments": {},
      "cell_type": "markdown",
      "metadata": {
        "id": "N5YO-6h_ofYF"
      },
      "source": [
        "Next, we'll delve into more detailed <a href='https://www.bts.gov/topics/national-transportation-statistics'>data</a> courtesy of the DOT's Bureau of Transportation Statistics (BTS). From its national transportation statistics webpage, we'll download the <a href='https://www.bts.gov/content/transit-profile-0'>Transit Profile Spreadsheet</a>, the <a href='https://www.bts.gov/content/highway-profile'>Highway Profile Spreadsheet</a>, and the <a href='https://www.bts.gov/content/automobile-profile'>Automobile Profile Spreadsheet</a>."
      ]
    },
    {
      "cell_type": "code",
      "execution_count": null,
      "metadata": {
        "colab": {
          "base_uri": "https://localhost:8080/"
        },
        "id": "jU9PNDHV19n4",
        "outputId": "8bf5ec21-a34f-4084-b26f-e28944529caa"
      },
      "outputs": [],
      "source": [
        "# We'll use the requests library to download the spreadsheets directly using\n",
        "# their respective URLs.\n",
        "\n",
        "# Use requests to get the spreadsheets.\n",
        "transitSpreadsheet = requests.get('https://www.bts.gov/sites/bts.dot.gov/files/2023-03/table_transit_profile_032123.xlsx')\n",
        "highwaySpreadsheet = requests.get('https://www.bts.gov/sites/bts.dot.gov/files/2022-07/table_highway_profile_072322.xlsx')\n",
        "automobileSpreadsheet = requests.get('https://www.bts.gov/sites/bts.dot.gov/files/2022-04/table_automobile_profile_042522.xlsx')\n",
        "\n",
        "# Write the spreadsheets directly to local files for easy access.\n",
        "outfile = open('table_transit_profile_032123.xlsx', 'wb')\n",
        "outfile.write(transitSpreadsheet.content)\n",
        "\n",
        "outfile = open('table_highway_profile_072322.xlsx', 'wb')\n",
        "outfile.write(highwaySpreadsheet.content)\n",
        "\n",
        "outfile = open('table_automobile_profile_042522.xlsx', 'wb');\n",
        "outfile.write(automobileSpreadsheet.content);"
      ]
    },
    {
      "attachments": {},
      "cell_type": "markdown",
      "metadata": {
        "id": "T1lVD8QGofYF"
      },
      "source": [
        "For all 3 of the BTS profile spreadsheets (transit, highway, and automobile), read into DataFrames, but exclude irrelevant rows of information and irrelevant columns corresponding to years we will not be using. As the information is organized in the spreadsheets, rows are variable names, so we exclude rows corresponding to worthless or irrelevant variables."
      ]
    },
    {
      "cell_type": "code",
      "execution_count": null,
      "metadata": {
        "id": "cNGb9BjhofYF"
      },
      "outputs": [],
      "source": [
        "# Read the transit spreadsheet information into a pandas DataFrame.\n",
        "\n",
        "# Irrelevant information grouping headers such as \"FINANCIAL\" and \"PERFORMANCE.\"\n",
        "blank_headers = [2, 45, 73, 140]\n",
        "# Groups of variables which we will not be analyzing such as passenger fare per\n",
        "# trip.\n",
        "undesired_data = list(range(27, 45)) + list(range(46, 73)) + \\\n",
        "list(range(74, 92)) + list(range(101, 140)) + list(range(159, 168))\n",
        "\n",
        "# Read the excel file into a DataFrame, ignoring the rows laid out in the above\n",
        "# lists. Use the 1st row as column labels since 0th row is empty. Only reads the\n",
        "# first 165 rows since they are the only rows containing data.\n",
        "transit_data = pd.read_excel(\n",
        "    'table_transit_profile_032123.xlsx', \n",
        "    header=1, \n",
        "    index_col=0, \n",
        "    nrows=165,\n",
        "    skiprows=blank_headers+undesired_data,\n",
        "    usecols=[0]+list(range(5, 31))\n",
        ")\n",
        "\n",
        "# Repeat the aboe process for the highway spreadsheet.\n",
        "\n",
        "blank_headers = [2, 24, 67, 86]\n",
        "undesired_data = list(range(25, 67)) + list(range(83, 86)) + [89]\n",
        "\n",
        "highway_data = pd.read_excel(\n",
        "    'table_highway_profile_072322.xlsx', \n",
        "    header=1, \n",
        "    index_col=0, \n",
        "    nrows=87,\n",
        "    skiprows=blank_headers+undesired_data,\n",
        "    usecols=[0]+list(range(5, 31))\n",
        ")\n",
        "\n",
        "# Repeat the aboe process for the automobile spreadsheet.\n",
        "\n",
        "blank_headers = [2, 14, 26, 72]\n",
        "undesired_data = [13] + list(range(15, 26)) + list(range(27, 52)) + list(range(56, 72)) + list(range(80, 105))\n",
        "\n",
        "automobile_data = pd.read_excel(\n",
        "    'table_automobile_profile_042522.xlsx', \n",
        "    header=1, \n",
        "    index_col=0, \n",
        "    nrows=102,\n",
        "    skiprows=blank_headers+undesired_data,\n",
        "    usecols=[0]+list(range(5, 31))\n",
        ");\n",
        "\n",
        "#automobile_data.head()\n",
        "#highway_data.head()\n",
        "#transit_data.head()"
      ]
    },
    {
      "attachments": {},
      "cell_type": "markdown",
      "metadata": {
        "id": "lW3zFizV6Xvp"
      },
      "source": [
        "# Step 2: Data Processing\n"
      ]
    },
    {
      "attachments": {},
      "cell_type": "markdown",
      "metadata": {
        "id": "ZC5N5aZuTD9i"
      },
      "source": [
        "### NHTSA Data\n",
        "The NHTSA crash fatality data we extracted is far from tidy, so we shall clean and organise it here.\\\n",
        "Firstly, this DataFrame holds features in its rows and observations in its columns. Obervations are, in this case, years. We therefore transpose the dataframe to make the rows observations and the columns features."
      ]
    },
    {
      "cell_type": "code",
      "execution_count": null,
      "metadata": {
        "id": "N2cgApb56dvz"
      },
      "outputs": [],
      "source": [
        "# We will want these to be the column labels after transposing the DataFrame.\n",
        "nhtsa_nat_stats = nhtsa_nat_stats.set_index('Unnamed: 0')\n",
        "\n",
        "# Transpose the DataFrame.\n",
        "nhtsa_nat_stats = nhtsa_nat_stats.transpose()\n",
        "\n",
        "# Rename index column to 'Year' and sort data chronologically.\n",
        "nhtsa_nat_stats.index.name = 'Year'\n",
        "nhtsa_nat_stats = nhtsa_nat_stats.sort_index()\n",
        "\n",
        "nhtsa_nat_stats.columns.name = None\n",
        "\n",
        "nhtsa_nat_stats.head()"
      ]
    },
    {
      "attachments": {},
      "cell_type": "markdown",
      "metadata": {
        "id": "8gYvkVydhWIk"
      },
      "source": [
        "The original NHTSA data table groups its features into various categories via extra, empty features which essentially function as \"headers\". This is a very messy way to do this, and furthermore having the categorization within the table is unnecessary. Here, we remove the unnecessary columns and rename the rest for clarity and to preserve information which would otherwise have been lost during the purging of the headers."
      ]
    },
    {
      "cell_type": "code",
      "execution_count": null,
      "metadata": {
        "id": "IuhJfn7KhIw-"
      },
      "outputs": [],
      "source": [
        "# Drop empty header columns.\n",
        "columns_to_remove = [\n",
        "    'Motor Vehicle Traffic Crashes', \n",
        "    'Traffic Crash Fatalities',\n",
        "    'Vehicle Occupants', \n",
        "    'Nonmotorists',\n",
        "    'Other National Statistics', \n",
        "    'National Rates: Fatalities'\n",
        "]\n",
        "\n",
        "nhtsa_nat_stats.drop(columns=columns_to_remove, inplace=True)\n",
        "\n",
        "# Rename remaining columns for clarity \n",
        "nhtsa_nat_stats = nhtsa_nat_stats.rename(\n",
        "    columns={\n",
        "        'Drivers' : 'Driver Fatalities',\n",
        "        'Passengers' : 'Passenger Fatalities',\n",
        "        'Unknown' : 'Unknown Vehicle Occupant Fatalities',\n",
        "        'Sub Total1' : 'Total Vehicle Occupant Fatalities',\n",
        "        'Motorcyclists' : 'Motorcyclist Fatalities',\n",
        "        'Pedestrians' : 'Pedestrian Fatalities',\n",
        "        'Pedalcyclists' : 'Pedalcyclist Fatalities',\n",
        "        'Other/ Unknown' : 'Other/Unknown Nonmotorist Fatalities',\n",
        "        'Sub Total2' : 'Total Nonmotorist Fatalities',\n",
        "        'Total*' : 'Total Fatalities'\n",
        "    }\n",
        ")\n",
        "\n",
        "# Drop columns whose data we will not be using.\n",
        "columns_to_remove = [\n",
        "    'Fatal Crashes',\n",
        "    'Passenger Fatalities', # This is already in the ! profile table.\n",
        "    'Unknown Vehicle Occupant Fatalities',\n",
        "    'Motorcyclist Fatalities',\n",
        "    'Pedestrian Fatalities',\n",
        "    'Pedalcyclist Fatalities',\n",
        "    'Other/Unknown Nonmotorist Fatalities', # Unknown nature → hard to analyze.\n",
        "    'Total Fatalities',\n",
        "    'Vehicle Miles Traveled (Billions)',\n",
        "    'Fatalities per 100 Million Vehicle Miles Traveled',\n",
        "    'Fatalities per 100,000 Registered Vehicles',\n",
        "    'Fatalities per 100,000 Licensed Drivers'\n",
        "]\n",
        "\n",
        "nhtsa_nat_stats.drop(columns=columns_to_remove, inplace=True)\n",
        "\n",
        "# The year 1994 is not included in any of the other data tables, so it will not\n",
        "# contribute to our analysis.\n",
        "nhtsa_nat_stats.drop(index='1994', inplace=True)\n",
        "\n",
        "nhtsa_nat_stats.head();"
      ]
    },
    {
      "attachments": {},
      "cell_type": "markdown",
      "metadata": {
        "id": "rOe0bkAzofYI"
      },
      "source": [
        "### Transit Profile Data\n",
        "The transit profile suffers from the same data organisation perils which plagued the NHTSA dataset. Namely, its rows store varible names and its columns store observaton labels, with these being years.\n",
        "We therefore transpose the transit profile DataFrame in order to tidy it such that its variable names are its column labels and its observation identifiers (years) are its indices. We then rename columns which were either poorly labeled or had errors in their labels."
      ]
    },
    {
      "cell_type": "code",
      "execution_count": null,
      "metadata": {
        "id": "Y9MP0YLjofYI"
      },
      "outputs": [],
      "source": [
        "# Transpose the datafame as discussed above.\n",
        "transit_data = transit_data.transpose()\n",
        "# Set years as indices since the data's observations are different years.\n",
        "transit_data.index.name = 'Year'\n",
        "\n",
        "# Rename columns to facilitate readability and fix errors which arose when\n",
        "# reading superscript characters from original Excel sheet into pandas.\n",
        "transit_data = transit_data.rename(\n",
        "    columns={\n",
        "        'Light raila' : 'Light rail',\n",
        "        'Light raila ' : 'Light rail',\n",
        "        'Ferryboatb' : 'Ferryboat',\n",
        "        'Otherc' : 'Other',\n",
        "        'Operating assistanced, total' : 'Operating assistance, total',\n",
        "        'Commuter railf' : 'Commuter rail',\n",
        "        'Injured persons, all modesk' : 'Injured persons, all modes'\n",
        "    }\n",
        ");"
      ]
    },
    {
      "attachments": {},
      "cell_type": "markdown",
      "metadata": {
        "id": "uCRHQW85ofYJ"
      },
      "source": [
        "Lastly, we remove the columns we will not be working with to minimise clutter. These are mostly sub-categories of data which we intend to analyze on the macro-level."
      ]
    },
    {
      "cell_type": "code",
      "execution_count": null,
      "metadata": {
        "id": "ZywF_iqXofYJ"
      },
      "outputs": [],
      "source": [
        "# Remove worthless and undesired columns.\n",
        "columns_to_remove = [\n",
        "    'Motor bus',\n",
        "    'Heavy rail',\n",
        "    'Light rail',\n",
        "    'Trolley bus',\n",
        "    'Demand responsive',\n",
        "    'Ferryboat',\n",
        "    'Commuter rail',\n",
        "    'Other',\n",
        "    'Other operating revenue',\n",
        "    'Operating assistance, total',\n",
        "    'State and local',\n",
        "    'Federal'\n",
        "]\n",
        "\n",
        "transit_data.drop(columns=columns_to_remove, inplace=True);"
      ]
    },
    {
      "attachments": {},
      "cell_type": "markdown",
      "metadata": {
        "id": "2lS8A3gWofYJ"
      },
      "source": [
        "\"Passenger operating revenues, total (millions of dollars)\" functions as a header for \"Operating revenues, total\" and \"Passenger fares, total\" so we have to rename them the sub-categories to reflect the information which would otherwise be lost upon dropping the header column."
      ]
    },
    {
      "cell_type": "code",
      "execution_count": null,
      "metadata": {
        "id": "qtgwNOZPofYJ"
      },
      "outputs": [],
      "source": [
        "# Rename relevant subcategory column labels.\n",
        "transit_data.rename(\n",
        "    columns={\n",
        "        'Operating revenues, total' : 'Operating revenues, total (millions of dollars)',\n",
        "        'Passenger fares, total' : 'Passenger fares, total (millions of dollars)'\n",
        "    },\n",
        "    inplace=True\n",
        ")\n",
        "\n",
        "# Drop empty header column.\n",
        "transit_data.drop(columns='Passenger operating revenues, total (millions of dollars)', inplace=True)\n",
        "\n",
        "# Behold the fruits of our labour!\n",
        "transit_data.head()"
      ]
    },
    {
      "attachments": {},
      "cell_type": "markdown",
      "metadata": {
        "id": "dnS0LQjOofYK"
      },
      "source": [
        "### Highway Profile Data\n",
        "We will now tidy the highway profile data in precisely the same way we tidied the transit profile data since they suffer from the same problems owning to their identical structural layouts."
      ]
    },
    {
      "cell_type": "code",
      "execution_count": null,
      "metadata": {
        "id": "MXYvPGLrofYK"
      },
      "outputs": [],
      "source": [
        "# Transpose to assure column labels are variable names and row indices are\n",
        "# observations.\n",
        "highway_data = highway_data.transpose()\n",
        "highway_data.index.name = 'Year' # Set index row to Year.\n",
        "\n",
        "# Rename columns to purge import errors and enhance readability.\n",
        "highway_data = highway_data.rename(\n",
        "    columns={\n",
        "        'Highway trust funda' : 'Highway trust fund',\n",
        "        'Otherb' : 'Other',\n",
        "        'State highway user tax revenuesc, total (millions of dollars)' : 'State highway user tax revenues, total (millions of dollars)',\n",
        "        'Other motor fuel receiptsd' : 'Other motor fuel receipts',\n",
        "        'Other motor vehicle feese' : 'Other motor vehicle fees',\n",
        "        'Motor carrier taxesf' : 'Motor carrier taxes',\n",
        "        'Miscellaneous feesg' : 'Miscellaneous fees',\n",
        "        'Vehicle-miles of travel by functional system (millions), total n' : 'Vehicle-miles of travel by functional system (millions), total',\n",
        "        'Collectorj' : 'Collector'\n",
        "    }\n",
        ")\n",
        "\n",
        "# Finally, remove columns containing data which we will not use.\n",
        "columns_to_remove=[\n",
        "    'Federal, total',\n",
        "    'Highway trust fund',\n",
        "    'Other',\n",
        "    'State and local, total',\n",
        "    'State and D.C.',\n",
        "    'Local',\n",
        "    'Motor fuel tax',\n",
        "    'Other motor fuel receipts',\n",
        "    'Motor vehicle registration fees ',\n",
        "    'Other motor vehicle fees',\n",
        "    'Motor carrier taxes',\n",
        "    'Miscellaneous fees',\n",
        "    'Rural mileage, total',\n",
        "    'Interstate',\n",
        "    'Interstate ',\n",
        "    'Other freeways and expressways',\n",
        "    'Other principal arterial',\n",
        "    'Minor arterial',\n",
        "    'Collector',\n",
        "    'Urban mileage, total'\n",
        "]\n",
        "\n",
        "highway_data.drop(columns=columns_to_remove, inplace=True)\n",
        "\n",
        "# Display our beautifully tidied data: \n",
        "highway_data.head()"
      ]
    },
    {
      "attachments": {},
      "cell_type": "markdown",
      "metadata": {
        "id": "omvLcZKaofYL"
      },
      "source": [
        "### Automobile Profile Data\n",
        "Repeat data tidying steps on the automobile profile data."
      ]
    },
    {
      "cell_type": "code",
      "execution_count": null,
      "metadata": {
        "id": "clvl0e78ofYL"
      },
      "outputs": [],
      "source": [
        "# Make column labels variables and row indices observations.\n",
        "automobile_data = automobile_data.transpose()\n",
        "automobile_data.index.name = 'Year' # Year is our index.\n",
        "\n",
        "# Remove column label name errors.\n",
        "automobile_data = automobile_data.rename(\n",
        "    columns={\n",
        "        'Personal auto expenditures, totala (millions of dollars)' : 'Personal auto expenditures, total (millions of dollars)',\n",
        "        'Light duty vehicle, short wheel basec,j' : 'Light duty vehicle, short wheel base',\n",
        "        'Light duty vehicle, long wheel basee,j' : 'Light duty vehicle, long wheel base',\n",
        "        'Motorcyclef,i' : 'Motorcycle',\n",
        "        'Bicycled' : 'Bicycle',\n",
        "        'Pedestriand' : 'Pedestrian'\n",
        "    }\n",
        ")\n",
        "\n",
        "# Remove columns which we shall not be using.\n",
        "columns_to_remove = [\n",
        "    'New cars',\n",
        "    'Used cars',\n",
        "    'Parts and accessories',\n",
        "    'Gasoline and oil',\n",
        "    'Maintainence and repair',\n",
        "    'Other services',\n",
        "    'Insurance premiums less claims paid',\n",
        "    'Auto registration fees',\n",
        "    'Driver\\'s license fees',\n",
        "    'Light duty vehicle, short wheel base',\n",
        "    'Light duty vehicle, long wheel base',\n",
        "    'Motorcycle',\n",
        "    'Passenger car',\n",
        "    'Light truck',\n",
        "    'Bicycle',\n",
        "    'Pedestrian',\n",
        "    'Other/Unknown'\n",
        "]\n",
        "\n",
        "automobile_data.drop(columns=columns_to_remove, inplace=True)\n",
        "\n",
        "# Tidy tidy tidy!\n",
        "automobile_data.head()"
      ]
    },
    {
      "attachments": {},
      "cell_type": "markdown",
      "metadata": {
        "id": "KxRHyekgofYL"
      },
      "source": [
        "### Combining the Data\n",
        "Herein we shall combine the DataFrames we have tidied in order to have all of our data in one place in preparation for visualization and analysis."
      ]
    },
    {
      "cell_type": "code",
      "execution_count": null,
      "metadata": {
        "id": "MAFUvSwUofYM"
      },
      "outputs": [],
      "source": [
        "# First, we must confirm that the data types of each DataFrame's indices match\n",
        "# before we combine them to avoid errors and incompatibility.\n",
        "print(f'Transit index type: {transit_data.index.dtype}')\n",
        "print(f'Highway index type: {highway_data.index.dtype}')\n",
        "print(f'Automobile index type: {automobile_data.index.dtype}')\n",
        "print(f'NHTSA index type: {nhtsa_nat_stats.index.dtype}')"
      ]
    },
    {
      "cell_type": "code",
      "execution_count": null,
      "metadata": {
        "id": "AlEADQQuofYM"
      },
      "outputs": [],
      "source": [
        "# It looks like the NHTSA data's index is of type object as opposed to type\n",
        "# int64, which all of the other dataframes use for indicies. Therefore, we set\n",
        "# the NHTSA dataframe's index to match that of the other dataframes.\n",
        "nhtsa_nat_stats.index = nhtsa_nat_stats.index.astype(transit_data.index.dtype)\n",
        "\n",
        "nhtsa_nat_stats.index.dtype # It worked :)"
      ]
    },
    {
      "cell_type": "code",
      "execution_count": null,
      "metadata": {
        "id": "oIsoblESofYm"
      },
      "outputs": [],
      "source": [
        "# Combine the DataFrames we've created. Use multi-indexed column labels to\n",
        "# keep track of the original data sources for each column.\n",
        "full_df = pd.concat(\n",
        "    {\n",
        "        'NHTSA Stats' : nhtsa_nat_stats, \n",
        "        'Transit Profile' : transit_data,\n",
        "        'Highway Profile' : highway_data,\n",
        "        'Automobile Profile' : automobile_data\n",
        "    },\n",
        "    axis=1\n",
        ")\n",
        "\n",
        "# At last, all of our data is in one DataFrame and is formatted properly.\n",
        "full_df.head()"
      ]
    },
    {
      "cell_type": "code",
      "execution_count": null,
      "metadata": {
        "id": "CYf2FTT1ofYn"
      },
      "outputs": [],
      "source": [
        "# Rename column labels once more for conciseness and readability.\n",
        "full_df.rename(\n",
        "    columns={\n",
        "        'Total Vehicle Occupant Fatalities' : 'Vehicle Occupant Fatalities',\n",
        "        'Total Nonmotorist Fatalities' : 'Nonmotorist Fatalities',\n",
        "        'Resident Population (Thousands)' : 'Resident Population (Thousands)',\n",
        "        'Registered Vehicles (Thousands)' : 'Registered Vehicles (Thousands)',\n",
        "        'Licensed Drivers (Thousands)' : 'Licensed Drivers (Thousands)',\n",
        "        'Operating revenues, total (millions of dollars)' : 'Operating Revenues (Millions USD)',\n",
        "        'Passenger fares, total (millions of dollars)' : 'Passenger Fares (Millions USD)',\n",
        "        'Operating expenses, total (millions of dollars)' : 'Operating Expenses (Millions USD)',\n",
        "        'Passenger-miles, total (millions)' : 'Passenger-Miles (Millions)',\n",
        "        'Fatalities, all modes' : 'Fatalities',\n",
        "        'Injured persons, all modes' : 'Injured Persons',\n",
        "        'Government receipts, total (millions of dollars)' : 'Gov Receipts (Millions USD)',\n",
        "        'Government expenditures, total (millions of dollars)' : 'Gov Expenditures (Millions USD)',\n",
        "        'State highway user tax revenues, total (millions of dollars)' : 'State Highway User Tax Revenues (Millions USD)',\n",
        "        'Vehicle-miles of travel by functional system (millions), total' : 'Vehicle-Miles (Millions)',\n",
        "        'Injured persons' : 'Injured Persons',\n",
        "        'Personal auto expenditures, total (millions of dollars)' : 'Personal Auto Expenditures (Millions USD)',\n",
        "        'Number of occupants and nonoccupant fatalities' : 'Fatalities'\n",
        "    },\n",
        "    inplace=True\n",
        ")\n",
        "\n",
        "full_df.columns.values;"
      ]
    },
    {
      "attachments": {},
      "cell_type": "markdown",
      "metadata": {
        "id": "FwDw1tCfofYn"
      },
      "source": [
        "## Missing Data Interpolation\n",
        "In this section, we deal with missing data from the tables we extracted. Fortunately, the Highway Profile from the DOT BTS was the only dataset which contained missing values in columns we care about. From the <a href='https://www.bts.gov/content/highway-profile'>website</a> we extracted it from, we see that values marked with a \"U\" or an \"N\" are missing values."
      ]
    },
    {
      "cell_type": "code",
      "execution_count": null,
      "metadata": {
        "id": "mtzmrhZgofYn"
      },
      "outputs": [],
      "source": [
        "# Here we display some examples of missing data from the highway profile. Note\n",
        "# the \"U\"s in the output:\n",
        "full_df[[('Highway Profile', 'Gov Receipts (Millions USD)'), \n",
        "         ('Highway Profile', 'Gov Expenditures (Millions USD)')]].tail(10)"
      ]
    },
    {
      "cell_type": "code",
      "execution_count": null,
      "metadata": {
        "id": "tNVh5xmxofYn"
      },
      "outputs": [],
      "source": [
        "# Replace all missing values with NaN for easy identification.\n",
        "full_df.replace(['U', 'N'], float('NaN'), inplace=True)\n",
        "\n",
        "# Here we see that the values output before have been successfully replaced\n",
        "# with NaN.\n",
        "full_df[[('Highway Profile', 'Gov Receipts (Millions USD)'),\n",
        "         ('Highway Profile', 'Gov Expenditures (Millions USD)')]].tail(10)"
      ]
    },
    {
      "attachments": {},
      "cell_type": "markdown",
      "metadata": {},
      "source": [
        "This data is likely missing completely at random due to government data collection shenanegans. It is extremely unlikely that the missing data are outlier values, as federal budget spending is not exactly known for its wild changes from year to year due in part to the quibbling and compromising ubuqiutous in Congress. We will therefore use hot-deck imputation to replace missing values by the value from the previous year, using pandas fillna(method='ffill') to do so.\n",
        "\n",
        "We do not think that this interpolation will have any significant effects on the analysis of the data, as only 6 values, evenly split between two variables, are missing in the entire DataFrame. If later data analysis and visualization seems to imply that the missing data is important, we will perform further analysis."
      ]
    },
    {
      "cell_type": "code",
      "execution_count": null,
      "metadata": {},
      "outputs": [],
      "source": [
        "# Perform imputation:\n",
        "full_df.fillna(method='ffill', inplace=True)"
      ]
    },
    {
      "attachments": {},
      "cell_type": "markdown",
      "metadata": {
        "id": "87lPAXfHofYn"
      },
      "source": [
        "## Feature Value Type Uniformity\n",
        "Here, we standardize the data types of the DataFrame columns, by making them all numeric. We must be careful as we do this not to lose information by converting perfectly good data to \"NaN.\" Per the <a href='https://www.bts.gov/content/highway-profile'>website</a> whence we obtained the data, some values are marked with (R) to indicate that they have been revised, so we must be careful when converting these to numerical type so as to not convert these to \"NaN\" since them \"(R)\" makes them strings."
      ]
    },
    {
      "cell_type": "code",
      "execution_count": null,
      "metadata": {
        "id": "CBiu2It9ofYo"
      },
      "outputs": [],
      "source": [
        "# First convert all values to strings so they're easier to work with.\n",
        "full_df = full_df.astype(str)\n",
        "\n",
        "# Remove (R) marker from revised values:\n",
        "for col in full_df:\n",
        "    full_df[col] = full_df[col].str.replace(r'(R)', '')\n",
        "\n",
        "# Convert all values/columns to numeric type:\n",
        "full_df = full_df.apply(pd.to_numeric)\n",
        "\n",
        "# Our data is finally ready for use!\n",
        "full_df"
      ]
    },
    {
      "attachments": {},
      "cell_type": "markdown",
      "metadata": {
        "id": "1SvbLcja6bOc"
      },
      "source": [
        "# Step 3: Exploratory Analysis & Data Visualization\n",
        "Data visualization can be a powerful tool both for communicating and understanding data. The human mind is naturally good at noticing and analyzing visual patterns due to evolution and our lifetime experience with doing so, and though not everyone is a data scientist, almost everyone can see."
      ]
    },
    {
      "attachments": {},
      "cell_type": "markdown",
      "metadata": {},
      "source": [
        "## Financial Analysis and Visualization\n",
        "We shall begin our data analysis and accompanying visualization with financial data. Specifically, we want to analyze the financial efficiency of automobile based transportation over time, for which we will use the ratio of passenger-miles to financial cost, as the primary goal of transportation is to move as many people as possible the highest amount of distance at the lowest cost."
      ]
    },
    {
      "cell_type": "code",
      "execution_count": null,
      "metadata": {},
      "outputs": [],
      "source": [
        "# Calculate automobile transportation financial efficiency by dividing passenger-miles by government expendures + personal automobile expendetures.\n",
        "full_df[('Automobile Profile', 'Car Efficiency')] = full_df[('Automobile Profile', 'Passenger-Miles (Millions)')] / (full_df[('Highway Profile', 'Gov Expenditures (Millions USD)')] + full_df[('Automobile Profile', 'Personal Auto Expenditures (Millions USD)')])\n",
        "\n",
        "# Use matplotlib.pyplot to plot car financial efficiency per year.\n",
        "plt.scatter(full_df.index, full_df['Automobile Profile', 'Car Efficiency'], label='Car')\n",
        "plt.title('Yearly Passenger-Mile Monetary Efficiency')\n",
        "plt.xlabel('Year')\n",
        "plt.ylabel('Efficiency (Passenger-Mile per USD)')\n",
        "plt.legend()\n",
        "plt.show()"
      ]
    },
    {
      "attachments": {},
      "cell_type": "markdown",
      "metadata": {},
      "source": [
        "As may be seen from the graph, the financial efficiency of automobile-based transportation is sharply decreasing over time. This is because the more roads are built, the higher the annual cost of maintenance, as the government, be it federal, state, or local, still needs to pay for all of the roads which have already been built. As can be seen from this graph, the current development pattern of building more and more roads will quickly become unsustainable as time goes on and passenger-miles per dollar spent sharply decreases."
      ]
    },
    {
      "attachments": {},
      "cell_type": "markdown",
      "metadata": {},
      "source": [
        "## Passenger-Miles vs Passenger Expenses\n",
        "We will now compare passenger-miles against passenger expenses for both automobile transportation and public transit. (In this case, 'passenger' means both passenger or driver in automobile contexts.) In other words, does it cost more to drive or take transit?"
      ]
    },
    {
      "cell_type": "code",
      "execution_count": null,
      "metadata": {},
      "outputs": [],
      "source": [
        "# Plot passenger-miles against passenger fares for transit.\n",
        "plt.scatter(\n",
        "    full_df.index, \n",
        "    full_df['Transit Profile', 'Passenger-Miles (Millions)'] / full_df['Transit Profile', 'Passenger Fares (Millions USD)'],\n",
        "    label='Transit'\n",
        ")\n",
        "\n",
        "# Plot passenger-miles against passenger expenses for driving.\n",
        "plt.scatter(\n",
        "    full_df.index, \n",
        "    full_df['Automobile Profile', 'Passenger-Miles (Millions)'] / full_df['Automobile Profile', 'Personal Auto Expenditures (Millions USD)'],\n",
        "    label='Automobile'\n",
        ")\n",
        "\n",
        "plt.legend()\n",
        "plt.show()"
      ]
    },
    {
      "attachments": {},
      "cell_type": "markdown",
      "metadata": {},
      "source": [
        "Here we see that difference in the per-mile cost for taking public transportation vs driving stays relatively small throughout recent years, only fluctuating a few dollars or so in the course of each year. Notably, both forms of transportation seem to be getting relatively cheaper throughout the years, indicating less of a financial burden on citizens. However, this trend still poses a problem. To elucidate it, let us explicitly lay out a few things:\n",
        "* The difference in the per-mile cost of taking transit vs driving is small enough that most people would not notice it in their daily lives.\n",
        "* The above point means that people feel no financial incentive to take transit once they already own a car.\n",
        "* Driving is still more expensive than taking transit because, unlike buying a car, you do not need to buy a public transit vehicle.\n",
        "\n",
        "In summary, despite billions of dollars in <a href='https://www.iea.org/reports/fossil-fuels-consumption-subsidies-2022'>oil subsidies</a>, transit which has been made to rely on passenger fares to pay for operating costs in the face of government <a href='https://blog.ucsusa.org/kshen/wheres-my-train-chronic-disinvestment-in-transit-leaves-us-all-stuck/'>disinvestment</a>, still manages to be competetive in cost to driving. This is not enough: as we seek to reduce carbon emissions, we need financial incentives which will cause people to reconsider driving instead of taking transit. "
      ]
    },
    {
      "attachments": {},
      "cell_type": "markdown",
      "metadata": {},
      "source": [
        "## Fatalities Analysis and Visualization\n",
        "We now turn to analysis of fatalities in both automobile based transportation and public transit based transporation. We shall compare the fatalities per passenger-mile for each mode of transporation over the years to see which is safer."
      ]
    },
    {
      "cell_type": "code",
      "execution_count": null,
      "metadata": {},
      "outputs": [],
      "source": [
        "# Calculate automobile transportation fatalities per passenger-mile.\n",
        "full_df[('Automobile Profile', 'Fatality Rate')] = (full_df['Automobile Profile', 'Fatalities']) / full_df[('Automobile Profile', 'Passenger-Miles (Millions)')]\n",
        "\n",
        "# Calculate public transit fatalities per passenger-mile.\n",
        "full_df[('Transit Profile', 'Fatality Rate')] = full_df[('Transit Profile', 'Fatalities')] / full_df[('Transit Profile', 'Passenger-Miles (Millions)')]\n",
        "\n",
        "\n",
        "# Use matplotlib.pyplot to plot car fatality rate per passenger-mile for\n",
        "# car transporation and transit.\n",
        "plt.scatter(full_df.index, full_df['Automobile Profile', 'Fatality Rate'], label='Car')\n",
        "plt.scatter(full_df.index, full_df['Transit Profile', 'Fatality Rate'], label='Transit')\n",
        "plt.title('Yearly Fatalities per Passenger-Mile')\n",
        "plt.xlabel('Year')\n",
        "plt.ylabel('Fatalities per Passenger-Mile')\n",
        "plt.legend()\n",
        "plt.show()"
      ]
    },
    {
      "attachments": {},
      "cell_type": "markdown",
      "metadata": {},
      "source": [
        "This graph tells us that public transit consistently has lower fatalities per passenger mile than automobile-based transportation despite systemic disinvestment in public transportation infrastructure since the middle of the last century and massive investment in automobile safety mechanisms such as air bags, crumple zones, and specialized seat design. This is because public transit is an inherently safer form of travel due to it having less points of failure. The large outlier in this trend in the year 2020 is likely due to the Coronavirus pandemic causing enclosed, crowded spaces to become <a href='https://www.its.ucla.edu/news/for-the-press/transportation-coronavirus-covid19/'>more dangerous</a>."
      ]
    },
    {
      "attachments": {},
      "cell_type": "markdown",
      "metadata": {},
      "source": [
        "## Nonmotorist Fatalities in Relation to Total Automobile Fatalities\n",
        "We will now visualize and discuss the group which is most often overlooked when talking about automobile transportation in order to raise awareness of their plight: nonmotorists. Please remember as you interpret this analysis and visualization that all of the fatalities in this section were the result of car crashes."
      ]
    },
    {
      "cell_type": "code",
      "execution_count": null,
      "metadata": {},
      "outputs": [],
      "source": [
        "# Total car occupant fatalities from 1995 to 2020.\n",
        "vehicle_occupant_fatalities = full_df[('NHTSA Stats',\n",
        "                                       'Vehicle Occupant Fatalities')].sum()\n",
        "\n",
        "# Total nonmotorist fatalities from 1995 to 2020.\n",
        "nonmotorist_fatalities = full_df[('NHTSA Stats',\n",
        "                                  'Nonmotorist Fatalities')].sum()\n",
        "\n",
        "# Plot a pie chart visualizing the ratio between motorist and nonmororist\n",
        "# fatalities resulting from car crashes.\n",
        "plt.pie(x=[vehicle_occupant_fatalities,\n",
        "         nonmotorist_fatalities],\n",
        "         labels=['Vehicle Occupant Fatalities',\n",
        "                 'Nonmotorist Fatalities']);\n",
        "\n",
        "# Print the explicit ratio.\n",
        "print('Nonmotorist Fatality Ratio:', nonmotorist_fatalities/vehicle_occupant_fatalities)"
      ]
    },
    {
      "attachments": {},
      "cell_type": "markdown",
      "metadata": {},
      "source": [
        "We note here that more than 20% of the fatalities resulting from car crashes between 1995 and 2020 are nonmotorists, the vast majority of whom are either pedestrians or cyclists. This is one of the most overlooked things when discussing automobile transportation: no other modern means of transporation results in this magnitude of death for those who are not using it. Cars alone actively endanger the lives of people who are not using them, putting that burden on the driver. Automobile dependency is inequitable and unethical in its endangerment of even those who do not benefit from it or choose not to participate in it."
      ]
    },
    {
      "attachments": {},
      "cell_type": "markdown",
      "metadata": {
        "id": "XCeNi8ow6oQ8"
      },
      "source": [
        "# Step 4: Modeling and Further Analysis with Machine Learning and Statistics"
      ]
    },
    {
      "cell_type": "code",
      "execution_count": null,
      "metadata": {
        "id": "cR8livnT64Mf"
      },
      "outputs": [],
      "source": [
        "auto_pass_miles = full_df['Automobile Profile', 'Passenger-Miles (Millions)'].to_numpy().reshape(-1, 1)\n",
        "auto_fatalities = full_df['Automobile Profile', 'Fatalities']\n",
        "\n",
        "model = lin_mod.LinearRegression()\n",
        "model = model.fit(auto_pass_miles, auto_fatalities)\n",
        "\n",
        "preds = model.predict(auto_pass_miles)\n",
        "\n",
        "plt.scatter(auto_pass_miles, auto_fatalities)\n",
        "plt.plot(auto_pass_miles, preds)\n",
        "plt.title('Automobile Fatalities vs Passenger-Miles')\n",
        "plt.xlabel('Passenger-Miles (Millions)')\n",
        "plt.ylabel('Fatalities')\n",
        "plt.show()"
      ]
    },
    {
      "attachments": {},
      "cell_type": "markdown",
      "metadata": {},
      "source": [
        "What's up with the wonky distribution of datapoints? Maybe we can look at some other data to get an idea"
      ]
    },
    {
      "cell_type": "code",
      "execution_count": null,
      "metadata": {},
      "outputs": [],
      "source": [
        "plt.plot(full_df.index, full_df['Automobile Profile', 'Fatalities'])\n",
        "plt.title('Yearly Automobile Fatalities')\n",
        "plt.xlabel('Year')\n",
        "plt.ylabel('Fatalities')\n",
        "plt.show()"
      ]
    },
    {
      "attachments": {},
      "cell_type": "markdown",
      "metadata": {},
      "source": [
        "There seems to be three different trends susussusus"
      ]
    },
    {
      "cell_type": "code",
      "execution_count": null,
      "metadata": {},
      "outputs": [],
      "source": [
        "years = full_df.index.tolist()\n",
        "fatalities = full_df['Automobile Profile', 'Fatalities'].tolist()\n",
        "\n",
        "plt.plot(years[:12], fatalities[:12], linewidth=6, label='1995-2006')\n",
        "plt.plot(years[10:17], fatalities[10:17], linewidth=4, label='2005-2011')\n",
        "plt.plot(years[15:], fatalities[15:], label='2010-2020')\n",
        "plt.title('Yearly Automobile Fatalities')\n",
        "plt.xlabel('Year')\n",
        "plt.ylabel('Fatalities')\n",
        "plt.legend()\n",
        "plt.show()"
      ]
    },
    {
      "attachments": {},
      "cell_type": "markdown",
      "metadata": {},
      "source": [
        "Going back to our original plot, we can see the intervals apply here too"
      ]
    },
    {
      "cell_type": "code",
      "execution_count": null,
      "metadata": {},
      "outputs": [],
      "source": [
        "plt.scatter(auto_pass_miles[:12], auto_fatalities[:12], s=60, label='1995-2006')\n",
        "plt.scatter(auto_pass_miles[10:17], auto_fatalities[10:17], s=40, label='2005-2011')\n",
        "plt.scatter(auto_pass_miles[15:], auto_fatalities[15:], s=20, label='2010-2020')\n",
        "plt.title('Automobile Fatalities vs Passenger-Miles')\n",
        "plt.xlabel('Passenger-Miles (Millions)')\n",
        "plt.ylabel('Fatalities')\n",
        "plt.legend()\n",
        "plt.show()"
      ]
    },
    {
      "cell_type": "code",
      "execution_count": null,
      "metadata": {},
      "outputs": [],
      "source": [
        "model1 = lin_mod.LinearRegression()\n",
        "model2 = lin_mod.LinearRegression()\n",
        "model3 = lin_mod.LinearRegression()\n",
        "\n",
        "model1.fit(auto_pass_miles[:12], auto_fatalities[:12])\n",
        "model2.fit(auto_pass_miles[10:17], auto_fatalities[10:17])\n",
        "model3.fit(auto_pass_miles[15:], auto_fatalities[15:])\n",
        "\n",
        "preds1 = model1.predict(auto_pass_miles[:12])\n",
        "preds2 = model2.predict(auto_pass_miles[10:17])\n",
        "preds3 = model3.predict(auto_pass_miles[15:])\n",
        "\n",
        "plt.scatter(auto_pass_miles[:12], auto_fatalities[:12], s=60, label='1995-2006')\n",
        "plt.scatter(auto_pass_miles[10:17], auto_fatalities[10:17], s=40, label='2005-2011')\n",
        "plt.scatter(auto_pass_miles[15:], auto_fatalities[15:], s=20, label='2010-2020')\n",
        "plt.plot(auto_pass_miles[:12], preds1, label='1995-2006')\n",
        "plt.plot(auto_pass_miles[10:17], preds2, label='2005-2011')\n",
        "plt.plot(auto_pass_miles[15:], preds3, label='2010-2020')\n",
        "plt.title('Automobile Fatalities vs Passenger-Miles')\n",
        "plt.xlabel('Passenger-Miles (Millions)')\n",
        "plt.ylabel('Fatalities')\n",
        "plt.legend()\n",
        "plt.show()"
      ]
    },
    {
      "attachments": {},
      "cell_type": "markdown",
      "metadata": {},
      "source": [
        "Model improved, but still seem kinda off for 2005-2011 and 2010-2020\n",
        "\n",
        "try huber regressor, a linear regression model which optimizes with a combination of L2 and L1 loss to increase robustness against outliers"
      ]
    },
    {
      "cell_type": "code",
      "execution_count": null,
      "metadata": {},
      "outputs": [],
      "source": [
        "model2 = lin_mod.HuberRegressor()\n",
        "model3 = lin_mod.HuberRegressor()\n",
        "\n",
        "model2.fit(auto_pass_miles[10:17], auto_fatalities[10:17])\n",
        "model3.fit(auto_pass_miles[15:], auto_fatalities[15:])\n",
        "\n",
        "preds2 = model2.predict(auto_pass_miles[10:17])\n",
        "preds3 = model3.predict(auto_pass_miles[15:])\n",
        "\n",
        "plt.scatter(auto_pass_miles[:12], auto_fatalities[:12], s=60, label='1995-2006')\n",
        "plt.scatter(auto_pass_miles[10:17], auto_fatalities[10:17], s=40, label='2005-2011')\n",
        "plt.scatter(auto_pass_miles[15:], auto_fatalities[15:], s=20, label='2010-2020')\n",
        "plt.plot(auto_pass_miles[:12], preds1, label='1995-2006')\n",
        "plt.plot(auto_pass_miles[10:17], preds2, label='2005-2011')\n",
        "plt.plot(auto_pass_miles[15:], preds3, label='2010-2020')\n",
        "plt.title('Automobile Fatalities vs Passenger-Miles')\n",
        "plt.xlabel('Passenger-Miles (Millions)')\n",
        "plt.ylabel('Fatalities')\n",
        "plt.legend()\n",
        "plt.show()"
      ]
    },
    {
      "attachments": {},
      "cell_type": "markdown",
      "metadata": {},
      "source": [
        "## Hypothesis Testing\n",
        "Here, we will compare miles of transportation taken by automobile and number of automobile fatalities over the years to determine whether the two are correlated.\n",
        "### Statistical Terminology\n",
        "Null Hypothesis: Automobile passenger-miles and automobile fatalities are not correlated.\n",
        "Alternative Hypothesis: As automobile passenger-miles increase, automobile fatalities increase."
      ]
    },
    {
      "cell_type": "code",
      "execution_count": null,
      "metadata": {},
      "outputs": [],
      "source": []
    },
    {
      "attachments": {},
      "cell_type": "markdown",
      "metadata": {
        "id": "RI3CDbzp6umC"
      },
      "source": [
        "# Step 5: Data Interpretation and Insight"
      ]
    },
    {
      "attachments": {},
      "cell_type": "markdown",
      "metadata": {},
      "source": [
        "Our analysis has given us much insight into how public transit and automobile-based transit in the US compare over time in regards to finances and fatalities. It tells us what advocates have been saying for years: reducing car <a href='https://en.wikipedia.org/wiki/Modal_share'>modal share</a> in the US would save lives and help save money, both in the wallets of individuals and the coffers of governments. It tells us that maintaining car infrastructure is financially unsustainable, and that public transit is a safer ways to travel. Finally, our linear regression analysis informs us that traffic fatalities increase as miles driven increase, even in the face of safety improvements which occur over time.\n",
        "\n",
        "We hope that this project has also given readers an introduction in both the tools and methodologies of data science and the power it has to raise awareness of important issues which would otherwise remain relegated to spreadsheets. Gathering data is always the first step; then, it must be rearranged and cleaned to convert it to a tidy format which is easy to work with and analyze and to deal with missing values in a way which will minimize the disruption of the trends which may be found in the data. Once the data is ready to be worked with, it is useful to visualize it as analysts may notice trends which can be further researched. After this, once trends in the data are identified, machine learning algorithms may be employed to model the data and draw further insights and/or predict future outcomes. Finally, after analysis has concluded, the data may be interpreted and hopefully conclusions about its contents may be leveraged to inform important decisions."
      ]
    },
    {
      "attachments": {},
      "cell_type": "markdown",
      "metadata": {
        "id": "PqcD84UvOmgS"
      },
      "source": [
        "# Further Information for Interested Persons\n",
        "There are many advocates and advocacy groups, from local international, fighting to spread awareness about automobile dependency and push for solutions to be implemented. Here a few are listed, as well as some sources from which interested readers may learn more information about automobile dependency:\n",
        "* <a href='https://en.wikipedia.org/wiki/Car_dependency'>Wikipedia</a> is always a good starting point.\n",
        "* <a href='https://www.planetizen.com/definition/automobile-dependency'>Planetizen</a> and <a href='https://www.vtpi.org/tdm/tdm100.htm'>Victoria Transport Poliy Institute</a> both have very good articles defining and detailing some common aspects of car dependency.\n",
        "* <a href='https://www.youtube.com/@NotJustBikes/featured'>Not Just Bikes</a>, courtesy of Jason Slaughter, became most popular 'urban planning' channel on YouTube as of 2022. Not Just Bikes explores Dutch urban design and transportation engineering with a focus on comparing it to American and Canadian development. Car dependency is a central topic throughout these videos.\n",
        "* <a href='strongtowns.org'>Strong Towns</a> is an American advocacy organisation focused on local governance, city finances, and urban development. Its founder, Charles Marohn, served as a professional traffic engineer, and advocates for reduced car dependency in tandem with zoning reform and road design reform in the US.\n",
        "\n",
        "For those looking for more information about the python libraries and features we used, here we link their documentation:\n",
        "* <a href='https://pandas.pydata.org/docs/'>Pandas</a>\n",
        "* <a href='https://requests.readthedocs.io/en/latest/'>Requests</a>\n",
        "* <a href='https://beautiful-soup-4.readthedocs.io/en/latest/'>BeautifulSoup</a>\n",
        "* <a href='https://matplotlib.org/stable/index.html'>Matplotlib</a>\n",
        "* <a href='https://docs.python.org/3/library/warnings.html'>Warnings</a>\n",
        "\n",
        "Finally, here are some resources from which readers may learn more about data science and hypothesis testing:\n",
        "* <a href='https://en.wikipedia.org/wiki/Data_science'>Data Science</a>\n",
        "* <a href='https://www.britannica.com/science/statistics/Hypothesis-testing'>Hypothesis Testing</a>"
      ]
    }
  ],
  "metadata": {
    "colab": {
      "provenance": []
    },
    "kernelspec": {
      "display_name": "Python 3",
      "name": "python3"
    },
    "language_info": {
      "codemirror_mode": {
        "name": "ipython",
        "version": 3
      },
      "file_extension": ".py",
      "mimetype": "text/x-python",
      "name": "python",
      "nbconvert_exporter": "python",
      "pygments_lexer": "ipython3",
      "version": "3.11.3"
    }
  },
  "nbformat": 4,
  "nbformat_minor": 0
}

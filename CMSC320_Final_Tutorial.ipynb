{
  "cells": [
    {
      "attachments": {},
      "cell_type": "markdown",
      "metadata": {
        "id": "jg0AmjXTqGaQ"
      },
      "source": [
        "# **The Effects of Automobile Dependency in the United States**\n",
        "## Contributors: Nicholas Breymaier and Zachary Osborne\n",
        "Nicholas UID: 117920871 <br>\n",
        "Zachary UID: 117941609 <br>\n",
        "<a href='https://github.com/nicholasbreymaier/nicholasbreymaier.github.io'> Source Code </a>"
      ]
    },
    {
      "attachments": {},
      "cell_type": "markdown",
      "metadata": {
        "id": "dUJ94wXHtOsj"
      },
      "source": [
        "# Introduction\n",
        "A place, ranging from a neighborhood-scale to nation-scale geographic area, is referred to as automobile dependent, or car dependent, when the only means by which residents are realistically capable of reaching necessities is by driving a personal automobile. By necessities we mean any locations necessary to live a successful life in modern society, such as institutions of education, jobs, and grocery stores.\n",
        "\n",
        "This analysis will focus prinarily on automobile dependency in the United States, but data from other countries will be used for comparative purposes.\n",
        "\n",
        "## The Importance of Automobile Dependency\n",
        "Some of the information presented in this section is drawn directly from the datasets we analyze in this project, and will be cited as such. Please see the bibliography at the end of this document/website for sources.\n",
        "\n",
        "## Relevance in the Field of Data Science\n",
        "Coverage by the major media institutions in the United States fails to correlate with what Americans die from (!cite 1). Among other things, the need for major media institutions to \"keep up\" with the incessant and immediate news which is able to be transmitted via social media has lead to institutions (!cite) switching to more eyecatching topics to maintain viewership and therefore advertisement revenue. Relying on the media is therefore not an effective way to build public awareness about systemic problems.\n",
        "\n",
        "Data Science offers a promising alternative medium of news coverage as opposed to televised reports transmitted by major media corporations and news transmitted via social media because it is significantly less prone to outlier bias. This project hopes to demonstrate that data science can be used to generate awareness about important yet overlooked societal issues by doing so with car dependency."
      ]
    },
    {
      "attachments": {},
      "cell_type": "markdown",
      "metadata": {
        "id": "27oRouFi6Pkf"
      },
      "source": [
        "# Step 1: Data Collection\n",
        "Thankfully, the US National Highway Traffic Safety Administration (NHTSA) keeps detailed data related to traffic fatalities, which serves as a good starting point for discussing the problem of car dependency."
      ]
    },
    {
      "attachments": {},
      "cell_type": "markdown",
      "metadata": {
        "id": "1eTkEYQXBcGx"
      },
      "source": [
        "https://www-fars.nhtsa.dot.gov/Main/index.aspx"
      ]
    },
    {
      "cell_type": "code",
      "execution_count": null,
      "metadata": {
        "id": "7QkCv-vGpShb"
      },
      "outputs": [],
      "source": [
        "import requests\n",
        "from bs4 import BeautifulSoup as bs\n",
        "import pandas as pd\n",
        "import matplotlib.pyplot as plt"
      ]
    },
    {
      "cell_type": "code",
      "execution_count": null,
      "metadata": {},
      "outputs": [],
      "source": [
        "\n",
        "# # Use the python requests library to extract the data from the website.\n",
        "# web_extract = requests.get(\n",
        "#     'https://www-fars.nhtsa.dot.gov/Main/index.aspx').text\n",
        "\n",
        "# # Organise and make legible the extracted html using the BeautifulSoup library.\n",
        "# web_extract = bs(web_extract)\n",
        "# web_extract.prettify()\n",
        "\n",
        "# loci = web_extract.find('table')\n",
        "\n",
        "# # Extract the html tables into pandas dataframes. Tables 1–9 were\n",
        "# # stylistic elements in the website.\n",
        "# nhtsa_nat_stats = pd.read_html(str(loci))[10]\n",
        "\n",
        "nhtsa_nat_stats = pd.read_feather('nhtsa_nat_stats.feather')\n",
        "nhtsa_nat_stats.head()"
      ]
    },
    {
      "attachments": {},
      "cell_type": "markdown",
      "metadata": {},
      "source": [
        "https://www.bts.gov/content/transit-profile-0"
      ]
    },
    {
      "attachments": {},
      "cell_type": "markdown",
      "metadata": {},
      "source": [
        "only do rough selection of categories of data we do/dont want here, do fine-grained removal in data processing (for all 3 profiles)"
      ]
    },
    {
      "cell_type": "code",
      "execution_count": null,
      "metadata": {},
      "outputs": [],
      "source": [
        "blank_headers = [2, 45, 73, 140]\n",
        "undesired_data = list(range(27, 45)) + list(range(46, 73)) + list(range(74, 92)) + list(range(101, 140)) + list(range(159, 168))\n",
        "\n",
        "transit_data = pd.read_excel(\n",
        "    'table_transit_profile_032123.xlsx', \n",
        "    header=1, \n",
        "    index_col=0, \n",
        "    nrows=165,\n",
        "    skiprows=blank_headers+undesired_data,\n",
        "    usecols=[0]+list(range(5, 31))\n",
        ")\n",
        "\n",
        "transit_data.head()"
      ]
    },
    {
      "attachments": {},
      "cell_type": "markdown",
      "metadata": {},
      "source": [
        "https://www.bts.gov/content/highway-profile"
      ]
    },
    {
      "cell_type": "code",
      "execution_count": null,
      "metadata": {},
      "outputs": [],
      "source": [
        "blank_headers = [2, 24, 67, 86]\n",
        "undesired_data = list(range(25, 67)) + list(range(83, 86)) + [89]\n",
        "\n",
        "highway_data = pd.read_excel(\n",
        "    'table_highway_profile_072322.xlsx', \n",
        "    header=1, \n",
        "    index_col=0, \n",
        "    nrows=87,\n",
        "    skiprows=blank_headers+undesired_data,\n",
        "    usecols=[0]+list(range(5, 31))\n",
        ")\n",
        "\n",
        "highway_data.head()"
      ]
    },
    {
      "attachments": {},
      "cell_type": "markdown",
      "metadata": {
        "id": "lW3zFizV6Xvp"
      },
      "source": [
        "# Step 2: Data Processing\n",
        "The NHTSA crash fatality data we extracted is far from tidy, so we shall clean and organise it here. \n",
        "\n",
        "Firstly, this DataFrame holds features in its rows and observations in its columns. Obervations are, in this case, years. We therefore transpose the dataframe to make the rows observations and the columns features."
      ]
    },
    {
      "cell_type": "code",
      "execution_count": null,
      "metadata": {
        "id": "N2cgApb56dvz"
      },
      "outputs": [],
      "source": [
        "# We will want these to be the column labels after transposing the DataFrame.\n",
        "nhtsa_nat_stats = nhtsa_nat_stats.set_index('Unnamed: 0')\n",
        "\n",
        "# Transpose the DataFrame.\n",
        "nhtsa_nat_stats = nhtsa_nat_stats.transpose()\n",
        "\n",
        "# Rename index column to 'Year' and sort data chronologically.\n",
        "nhtsa_nat_stats.columns.names = ['Year']\n",
        "nhtsa_nat_stats = nhtsa_nat_stats.sort_index()\n",
        "\n",
        "nhtsa_nat_stats.head()"
      ]
    },
    {
      "attachments": {},
      "cell_type": "markdown",
      "metadata": {
        "id": "8gYvkVydhWIk"
      },
      "source": [
        "The original data table groups its features into various categories via extra, empty features which essentially function as \"headers\". This is a very messy way to do this, and furthermore having the categorization within the table is unnecessary. Here, we remove the unnecessary columns and rename the rest for clarity and to preserve information which would otherwise have been lost during the purging of the headers."
      ]
    },
    {
      "cell_type": "code",
      "execution_count": null,
      "metadata": {
        "colab": {
          "base_uri": "https://localhost:8080/",
          "height": 357
        },
        "id": "IuhJfn7KhIw-",
        "outputId": "b80f6f9d-f040-4481-989f-ffeed3905c53"
      },
      "outputs": [],
      "source": [
        "# Drop empty header columns.\n",
        "columns_to_remove = [\n",
        "    'Motor Vehicle Traffic Crashes', \n",
        "    'Traffic Crash Fatalities',\n",
        "    'Vehicle Occupants', \n",
        "    'Nonmotorists',\n",
        "    'Other National Statistics', \n",
        "    'National Rates: Fatalities'\n",
        "]\n",
        "\n",
        "nhtsa_nat_stats.drop(columns=columns_to_remove, inplace=True)"
      ]
    },
    {
      "cell_type": "code",
      "execution_count": null,
      "metadata": {},
      "outputs": [],
      "source": [
        "# Rename remaining columns for clarity \n",
        "nhtsa_nat_stats = nhtsa_nat_stats.rename(\n",
        "    columns={\n",
        "        'Drivers' : 'Driver Fatalities',\n",
        "        'Passengers' : 'Passenger Fatalities',\n",
        "        'Unknown' : 'Unknown Vehicle Occupant Fatalities',\n",
        "        'Sub Total1' : 'Total Vehicle Occupant Fatalities',\n",
        "        'Motorcyclists' : 'Motorcyclist Fatalities',\n",
        "        'Pedestrians' : 'Pedestrian Fatalities',\n",
        "        'Pedalcyclists' : 'Pedalcyclist Fatalities',\n",
        "        'Other/ Unknown' : 'Other/Unknown Nonmotorist Fatalities',\n",
        "        'Sub Total2' : 'Total Nonmotorist Fatalities',\n",
        "        'Total*' : 'Total Fatalities'\n",
        "    }\n",
        ")\n",
        "\n",
        "nhtsa_nat_stats.head()"
      ]
    },
    {
      "attachments": {},
      "cell_type": "markdown",
      "metadata": {},
      "source": [
        "### Transit Profile"
      ]
    },
    {
      "cell_type": "code",
      "execution_count": null,
      "metadata": {},
      "outputs": [],
      "source": [
        "transit_data = transit_data.transpose()\n",
        "\n",
        "transit_data.head()"
      ]
    },
    {
      "cell_type": "code",
      "execution_count": null,
      "metadata": {},
      "outputs": [],
      "source": [
        "transit_data = transit_data.rename(\n",
        "    columns={\n",
        "        'Light raila' : 'Light rail',\n",
        "        'Light raila ' : 'Light rail',\n",
        "        'Ferryboatb' : 'Ferryboat',\n",
        "        'Otherc' : 'Other',\n",
        "        'Operating assistanced, total' : 'Operating assistance, total',\n",
        "        'Commuter railf' : 'Commuter rail',\n",
        "        'Injured persons, all modesk' : 'Injured persons, all modes'\n",
        "    }\n",
        ")\n",
        "\n",
        "transit_data.head()"
      ]
    },
    {
      "attachments": {},
      "cell_type": "markdown",
      "metadata": {},
      "source": [
        "Removing undesired non-headers"
      ]
    },
    {
      "cell_type": "code",
      "execution_count": null,
      "metadata": {},
      "outputs": [],
      "source": [
        "columns_to_remove = [\n",
        "    'Motor bus',\n",
        "    'Heavy rail',\n",
        "    'Light rail',\n",
        "    'Trolley bus',\n",
        "    'Demand responsive',\n",
        "    'Ferryboat',\n",
        "    'Commuter rail',\n",
        "    'Other',\n",
        "    'Other operating revenue',\n",
        "    'Operating assistance, total',\n",
        "    'State and local',\n",
        "    'Federal'\n",
        "]\n",
        "transit_data.drop(columns=columns_to_remove, inplace=True)\n",
        "\n",
        "transit_data.head()"
      ]
    },
    {
      "attachments": {},
      "cell_type": "markdown",
      "metadata": {},
      "source": [
        "Passenger operating revenues, total (millions of dollars) functions as a header for Operating revenues, total and Passenger fares, total so we have to rename them before we can remove it"
      ]
    },
    {
      "cell_type": "code",
      "execution_count": null,
      "metadata": {},
      "outputs": [],
      "source": [
        "transit_data.rename(\n",
        "    columns={\n",
        "        'Operating revenues, total' : 'Operating revenues, total (millions of dollars)',\n",
        "        'Passenger fares, total' : 'Passenger fares, total (millions of dollars)'\n",
        "    },\n",
        "    inplace=True\n",
        ")\n",
        "\n",
        "transit_data.drop(columns='Passenger operating revenues, total (millions of dollars)', inplace=True)\n",
        "\n",
        "transit_data.head()"
      ]
    },
    {
      "attachments": {},
      "cell_type": "markdown",
      "metadata": {},
      "source": [
        "### Highway Profile"
      ]
    },
    {
      "cell_type": "code",
      "execution_count": null,
      "metadata": {},
      "outputs": [],
      "source": [
        "highway_data = highway_data.transpose()\n",
        "\n",
        "highway_data.head()"
      ]
    },
    {
      "cell_type": "code",
      "execution_count": null,
      "metadata": {},
      "outputs": [],
      "source": [
        "highway_data = highway_data.rename(\n",
        "    columns={\n",
        "        'Highway trust funda' : 'Highway trust fund',\n",
        "        'Otherb' : 'Other',\n",
        "        'State highway user tax revenuesc, total (millions of dollars)' : 'State highway user tax revenues, total (millions of dollars)',\n",
        "        'Other motor fuel receiptsd' : 'Other motor fuel receipts',\n",
        "        'Other motor vehicle feese' : 'Other motor vehicle fees',\n",
        "        'Motor carrier taxesf' : 'Motor carrier taxes',\n",
        "        'Miscellaneous feesg' : 'Miscellaneous fees',\n",
        "        'Vehicle-miles of travel by functional system (millions), totaln' : 'Vehicle-miles of travel by functional system (millions), total',\n",
        "        'Collectorj' : 'Collector'\n",
        "    }\n",
        ")\n",
        "\n",
        "highway_data.head()"
      ]
    },
    {
      "attachments": {},
      "cell_type": "markdown",
      "metadata": {},
      "source": [
        "Removing undesired non-headers"
      ]
    },
    {
      "cell_type": "code",
      "execution_count": null,
      "metadata": {},
      "outputs": [],
      "source": [
        "highway_data.drop(\n",
        "    columns={\n",
        "        'Federal, total',\n",
        "        'Highway trust fund',\n",
        "        'Other',\n",
        "        'State and local, total',\n",
        "        'State and D.C.',\n",
        "        'Local',\n",
        "        'Motor fuel tax',\n",
        "        'Other motor fuel receipts',\n",
        "        'Motor vehicle registration fees ',\n",
        "        'Other motor vehicle fees',\n",
        "        'Motor carrier taxes',\n",
        "        'Miscellaneous fees',\n",
        "        'Rural mileage, total',\n",
        "        'Interstate',\n",
        "        'Interstate ',\n",
        "        'Other freeways and expressways',\n",
        "        'Other principal arterial',\n",
        "        'Minor arterial',\n",
        "        'Collector',\n",
        "        'Urban mileage, total'\n",
        "    },\n",
        "    inplace=True\n",
        ")\n",
        "\n",
        "highway_data.head()"
      ]
    },
    {
      "attachments": {},
      "cell_type": "markdown",
      "metadata": {},
      "source": [
        "### Automobile Profile"
      ]
    },
    {
      "attachments": {},
      "cell_type": "markdown",
      "metadata": {},
      "source": [
        "### Combining the data"
      ]
    },
    {
      "attachments": {},
      "cell_type": "markdown",
      "metadata": {},
      "source": [
        "#### convert below to working with the combined df"
      ]
    },
    {
      "attachments": {},
      "cell_type": "markdown",
      "metadata": {},
      "source": [
        "Some of the units of measurements in the nhtsa national statistics data are poorly chosen, thus hindering interpretability. Specifically, the columns \"Vehicle Miles Traveled\", \"Resident Population\", \"Registered Vehicles\", and \"Licensed Drivers\" are all measured in thousands or billions yet also have column values in the thousands. This results in numbers such as \"2,358 billion\" and \"260,327 thousand\". While these aren't terribly hard to interpret, they do reduce ease of use and interpretation. Below, we resolve this issue by increasing the units of measurement in the aforementioned columns and accordingly scaling column values."
      ]
    },
    {
      "cell_type": "code",
      "execution_count": null,
      "metadata": {},
      "outputs": [],
      "source": [
        "# Store new names in list for better readability/conciseness and because they\n",
        "# will be used multiple times\n",
        "new_names = [\n",
        "    'Vehicle Miles Traveled (Trillions)',\n",
        "    'Resident Population (Millions)',\n",
        "    'Registered Vehicles (Millions)',\n",
        "    'Licensed Drivers (Millions)'\n",
        "]\n",
        "\n",
        "nhtsa_nat_stats = nhtsa_nat_stats.rename(\n",
        "    columns={\n",
        "        'Vehicle Miles Traveled (Billions)' : new_names[0],\n",
        "        'Resident Population (Thousands)' : new_names[1],\n",
        "        'Registered Vehicles (Thousands)' : new_names[2],\n",
        "        'Licensed Drivers (Thousands)' : new_names[3]\n",
        "    }\n",
        ")\n",
        "\n",
        "nhtsa_nat_stats[new_names] = nhtsa_nat_stats[new_names] / 1000\n",
        "\n",
        "nhtsa_nat_stats[new_names].head()"
      ]
    },
    {
      "attachments": {},
      "cell_type": "markdown",
      "metadata": {},
      "source": [
        "### Missing Data"
      ]
    },
    {
      "attachments": {},
      "cell_type": "markdown",
      "metadata": {},
      "source": [
        "Keeping the below as an example in case we need to do something similar later, remove before submitting\n",
        "\n",
        "essentially converts header column structure to multi-index structure"
      ]
    },
    {
      "cell_type": "code",
      "execution_count": null,
      "metadata": {},
      "outputs": [],
      "source": [
        "# # preserving information which would otherwise be lost due to removal of the sub-header formatting of\n",
        "# # the first 15 columns\n",
        "# trans_p = trans_p.rename(\n",
        "#     columns={\n",
        "#         'Operating revenues, total' : 'Total operating revenues',\n",
        "#         'Passenger fares, total' : 'Total passenger fares',\n",
        "#         'Other operating revenue' : 'Non-fare operating revenue',\n",
        "#         'Operating assistance, total' : 'Total operating assistance',\n",
        "#         'State and local' : 'State and local operating assistance',\n",
        "#         'Federal' : 'Federal operating assistance'\n",
        "#     }\n",
        "# )\n",
        "# for i in range(3, 11):\n",
        "#     trans_p.columns.values[i] += ' passenger fares'\n",
        "\n",
        "# # Renaming columns to remove information which will soon be contained in the top-level columns\n",
        "# trans_p = trans_p.rename(\n",
        "#     columns={\n",
        "#         'Passenger operating revenues, total (millions of dollars)' : 'Total',\n",
        "#         'Operating expenses, total (millions of dollars)' : 'Total',\n",
        "#         'Average passenger revenue per passenger-mile, all modes (dollars)' : 'All modes',\n",
        "#         'Number of vehicles, total' : 'Total',\n",
        "#         'Vehicle-miles, total (millions)' : 'Total',\n",
        "#         'Passenger-miles, total (millions)' : 'Total',\n",
        "#         'Energy consumption, diesel, total (million gallons)' : 'Total',\n",
        "#         'Energy consumption, other, total (million gallons)' : 'Total',\n",
        "#         'Energy consumption, electric power, total (million kWh)' : 'Total',\n",
        "#         'Fatalities, all modes' : 'All modes',\n",
        "#         'Injured persons, all modes' : 'All modes',\n",
        "#         'Incidents, all modes' : 'All modes'\n",
        "#     }\n",
        "# )\n",
        "\n",
        "# headers = (\n",
        "#     ['Passenger Operating Revenues (Millions USD)'] * 15\n",
        "#     + ['Operating Expenses (Millions USD)'] * 9\n",
        "#     + ['Avg Passenger Revenue Per Passenger Mile (USD)'] * 9\n",
        "#     + ['Number of Vehicles'] * 9\n",
        "#     + ['Vehicle Miles (Millions)'] * 9\n",
        "#     + ['Passenger Miles (Millions)'] * 9\n",
        "#     + ['Diesel Energy Consumption (Million Gallons)'] * 9\n",
        "#     + ['Other Energy Consumption (Million Gallons)'] * 3\n",
        "#     + ['Electric Energy Consumption (Million kWh)'] * 9\n",
        "#     + ['Fatalities'] * 9\n",
        "#     + ['Injured Persons'] * 9\n",
        "#     + ['Incidents'] * 9\n",
        "# )\n",
        "\n",
        "# trans_p.columns = pd.MultiIndex.from_tuples(list(zip(headers, trans_p.columns)))\n",
        "\n",
        "# trans_p.head()"
      ]
    },
    {
      "attachments": {},
      "cell_type": "markdown",
      "metadata": {
        "id": "1SvbLcja6bOc"
      },
      "source": [
        "# Step 3: Exploratory Analysis & Data Visualization"
      ]
    },
    {
      "attachments": {},
      "cell_type": "markdown",
      "metadata": {},
      "source": [
        "As a part of our exploration and analysis of the data, we will want to visualize it through graphs. To aid in this, we have defined a function for plotting columns of a dataframe against the indices/other columns of the same dataframe below. Note that if one wants to make additional modifications to the plot beyond those of this function, they need only make such modifications prior to calling it. "
      ]
    },
    {
      "cell_type": "code",
      "execution_count": null,
      "metadata": {},
      "outputs": [],
      "source": [
        "def plot_cols(df, y_cols, title, xlabel=None, ylabel=None, x_col=None):\n",
        "    \"\"\"\n",
        "    Plots the specified columns y_cols of the dataframe df against either the indices of\n",
        "    the dataframe or optionally a specified column x_col. All plotted lines will be on\n",
        "    the same graph, with a legend to differentiate them\n",
        "\n",
        "    If not specified, xlabel will default to x_col/index name and ylabel will default to y_cols[0]\n",
        "    \"\"\"\n",
        "\n",
        "    # y_cols is expected to be a type list, so if the user passes a single column name we\n",
        "    # want to make sure to convert it to a list of a single item\n",
        "    y_cols = [y_cols] if type(y_cols) == str else y_cols\n",
        "    # as explained above, y columns will be graphed against the dataframe indices if no column\n",
        "    # is specifed for the x-axis\n",
        "    x = df.index if x_col == None else df[x_col]\n",
        "    # setting to defaults, as defined above, if necessary\n",
        "    xlabel = df.columns.name if xlabel == None else xlabel\n",
        "    ylabel = y_cols[0] if ylabel == None else ylabel\n",
        "\n",
        "    # plots a line for each column\n",
        "    for y_col in y_cols:\n",
        "        plt.plot(x, df[y_col], label=y_col)\n",
        "    \n",
        "    plt.title(title)\n",
        "    plt.xlabel(xlabel)\n",
        "    plt.ylabel(ylabel)\n",
        "    plt.legend()\n",
        "    plt.show()"
      ]
    },
    {
      "cell_type": "code",
      "execution_count": null,
      "metadata": {},
      "outputs": [],
      "source": [
        "plt.xticks(range(0, len(nhtsa_nat_stats.index), 5))\n",
        "plot_cols(nhtsa_nat_stats, 'Fatal Crashes', 'Yearly Fatal Motor Vehicle Crashes in the U.S.')"
      ]
    },
    {
      "attachments": {},
      "cell_type": "markdown",
      "metadata": {
        "id": "XCeNi8ow6oQ8"
      },
      "source": [
        "# Step 4: Modeling and Further Analysis with Machine Learning and Statistics"
      ]
    },
    {
      "cell_type": "code",
      "execution_count": null,
      "metadata": {
        "id": "cR8livnT64Mf"
      },
      "outputs": [],
      "source": []
    },
    {
      "attachments": {},
      "cell_type": "markdown",
      "metadata": {
        "id": "RI3CDbzp6umC"
      },
      "source": [
        "# Step 5: Data Interpretation and Insight"
      ]
    },
    {
      "cell_type": "code",
      "execution_count": null,
      "metadata": {
        "id": "QbmXnuCn63vy"
      },
      "outputs": [],
      "source": []
    },
    {
      "attachments": {},
      "cell_type": "markdown",
      "metadata": {
        "id": "PqcD84UvOmgS"
      },
      "source": [
        "# Further Information for the Inquisitive Reader\n",
        "\n",
        "There are many advocates and advocacy groups, from local international, fighting to spread awareness about this issue and push for solutions to be implemented. Here a few are listed, as well as more general sources wherein the details of car dependency are discussed:\n",
        "> * <a href='https://en.wikipedia.org/wiki/Car_dependency'>Wikipedia</a> is always a good starting point.\n",
        "> * <a href='https://www.planetizen.com/definition/automobile-dependency'>Planetizen</a> and <a href='https://www.vtpi.org/tdm/tdm100.htm'>Victorya Transport Poliy Institute</a> both have very good articles defining and detailing some common aspects of car dependency.\n",
        "> * <a href='https://www.youtube.com/@NotJustBikes/featured'>Not Just Bikes</a>, courtesy of Jason Slaughter, became most popular 'urban planning' channel on YouTube as of 2022. Not Just Bikes explores Dutch urban design and transportation engineering with a focus on comparing it to American and Canadian development. Car dependency is a central topic throughout these videos.\n",
        "> * <a href='strongtowns.org'>Strong Towns</a> is an American advocacy organisation focused on local governance, city finances, and urban development. Its founder, Charles Marohn, served as a professional traffic engineer, and advocates for reduced car dependency in tandem with zoning reform and road design reform in the US."
      ]
    },
    {
      "attachments": {},
      "cell_type": "markdown",
      "metadata": {
        "id": "NFM1sWxxJDsP"
      },
      "source": [
        "# Bibliography\n",
        "https://ourworldindata.org/does-the-news-reflect-what-we-die-from 1\n",
        "https://www-fars.nhtsa.dot.gov/Main/index.aspx \\\\ 2\n",
        "https://nepis.epa.gov/Exe/ZyPDF.cgi?Dockey=P1013L1O.pdf 3"
      ]
    }
  ],
  "metadata": {
    "colab": {
      "provenance": []
    },
    "kernelspec": {
      "display_name": "Python 3",
      "name": "python3"
    },
    "language_info": {
      "codemirror_mode": {
        "name": "ipython",
        "version": 3
      },
      "file_extension": ".py",
      "mimetype": "text/x-python",
      "name": "python",
      "nbconvert_exporter": "python",
      "pygments_lexer": "ipython3",
      "version": "3.11.3"
    }
  },
  "nbformat": 4,
  "nbformat_minor": 0
}

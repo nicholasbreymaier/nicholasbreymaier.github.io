{
  "cells": [
    {
      "attachments": {},
      "cell_type": "markdown",
      "metadata": {
        "id": "jg0AmjXTqGaQ"
      },
      "source": [
        "# **The Effects of Automobile Dependency in the United States**\n",
        "## Contributors: Nicholas Breymaier and Zachary Osborne\n",
        "Nicholas UID: 117920871 <br>\n",
        "Zachary UID: 117941609 <br>\n",
        "<a href='https://github.com/nicholasbreymaier/nicholasbreymaier.github.io'> Source Code </a>"
      ]
    },
    {
      "attachments": {},
      "cell_type": "markdown",
      "metadata": {
        "id": "dUJ94wXHtOsj"
      },
      "source": [
        "# Introduction\n",
        "A place, ranging from a neighborhood-scale to nation-scale geographic area, is referred to as automobile dependent, or car dependent, when the only means by which residents are realistically capable of reaching necessities is by driving a personal automobile. By necessities we mean any locations necessary to live a successful life in modern society, such as institutions of education, jobs, and grocery stores.\n",
        "\n",
        "This analysis will focus prinarily on automobile dependency in the United States, but data from other countries will be used for comparative purposes.\n",
        "\n",
        "## The Importance of Automobile Dependency\n",
        "Some of the information presented in this section is drawn directly from the datasets we analyze in this project, and will be cited as such. Please see the bibliography at the end of this document/website for sources.\n",
        "\n",
        "## Relevance in the Field of Data Science\n",
        "Coverage by the major media institutions in the United States fails to correlate with what Americans die from (!cite 1). Among other things, the need for major media institutions to \"keep up\" with the incessant and immediate news which is able to be transmitted via social media has lead to institutions (!cite) switching to more eyecatching topics to maintain viewership and therefore advertisement revenue. Relying on the media is therefore not an effective way to build public awareness about systemic problems.\n",
        "\n",
        "Data Science offers a promising alternative medium of news coverage as opposed to televised reports transmitted by major media corporations and news transmitted via social media because it is significantly less prone to outlier bias. This project hopes to demonstrate that data science can be used to generate awareness about important yet overlooked societal issues by doing so with car dependency."
      ]
    },
    {
      "attachments": {},
      "cell_type": "markdown",
      "metadata": {
        "id": "27oRouFi6Pkf"
      },
      "source": [
        "# Step 1: Data Collection\n",
        "Thankfully, the US National Highway Traffic Safety Administration (NHTSA) keeps detailed data related to traffic fatalities, which serves as a good starting point for discussing the problem of car dependency."
      ]
    },
    {
      "attachments": {},
      "cell_type": "markdown",
      "metadata": {
        "id": "1eTkEYQXBcGx"
      },
      "source": [
        "https://www-fars.nhtsa.dot.gov/Main/index.aspx"
      ]
    },
    {
      "cell_type": "code",
      "execution_count": null,
      "metadata": {
        "id": "7QkCv-vGpShb"
      },
      "outputs": [],
      "source": [
        "import requests\n",
        "from bs4 import BeautifulSoup as bs\n",
        "import pandas as pd\n",
        "import matplotlib.pyplot as plt"
      ]
    },
    {
      "cell_type": "code",
      "execution_count": null,
      "metadata": {},
      "outputs": [],
      "source": [
        "\n",
        "# # Use the python requests library to extract the data from the website.\n",
        "# web_extract = requests.get(\n",
        "#     'https://www-fars.nhtsa.dot.gov/Main/index.aspx').text\n",
        "\n",
        "# # Organise and make legible the extracted html using the BeautifulSoup library.\n",
        "# web_extract = bs(web_extract)\n",
        "# web_extract.prettify()\n",
        "\n",
        "# loci = web_extract.find('table')\n",
        "\n",
        "# # Extract the html tables into pandas dataframes. Tables 1–9 were\n",
        "# # stylistic elements in the website.\n",
        "# nhtsa_nat_stats = pd.read_html(str(loci))[10]\n",
        "\n",
        "nhtsa_nat_stats = pd.read_feather('nhtsa_nat_stats.feather')\n",
        "nhtsa_nat_stats.head()"
      ]
    },
    {
      "attachments": {},
      "cell_type": "markdown",
      "metadata": {
        "id": "lW3zFizV6Xvp"
      },
      "source": [
        "# Step 2: Data Processing\n",
        "The NHTSA crash fatality data we extracted is far from tidy, so we shall clean and organise it here. \n",
        "\n",
        "Firstly, this DataFrame holds features in its rows and observations in its columns. Obervations are, in this case, years. We therefore transpose the dataframe to make the rows observations and the columns features."
      ]
    },
    {
      "cell_type": "code",
      "execution_count": null,
      "metadata": {
        "id": "N2cgApb56dvz"
      },
      "outputs": [],
      "source": [
        "# We will want these to be the column labels after transposing the DataFrame.\n",
        "nhtsa_nat_stats = nhtsa_nat_stats.set_index('Unnamed: 0')\n",
        "\n",
        "# Transpose the DataFrame.\n",
        "nhtsa_nat_stats = nhtsa_nat_stats.transpose()\n",
        "\n",
        "# Rename index column to 'Year' and sort data chronologically.\n",
        "nhtsa_nat_stats.columns.names = ['Year']\n",
        "nhtsa_nat_stats = nhtsa_nat_stats.sort_index()\n",
        "\n",
        "nhtsa_nat_stats.head()"
      ]
    },
    {
      "attachments": {},
      "cell_type": "markdown",
      "metadata": {
        "id": "8gYvkVydhWIk"
      },
      "source": [
        "The original data table groups its features into various categories via extra, empty features which essentially function as \"headers\". This is a very messy way to do this, and furthermore having the categorization within the table is unnecessary. Here, we remove the unnecessary columns and rename the rest for clarity and to preserve information which would otherwise have been lost during the purging of the headers."
      ]
    },
    {
      "cell_type": "code",
      "execution_count": null,
      "metadata": {
        "colab": {
          "base_uri": "https://localhost:8080/",
          "height": 357
        },
        "id": "IuhJfn7KhIw-",
        "outputId": "b80f6f9d-f040-4481-989f-ffeed3905c53"
      },
      "outputs": [],
      "source": [
        "# Drop empty header columns.\n",
        "columns_to_remove = [\n",
        "    'Motor Vehicle Traffic Crashes', \n",
        "    'Traffic Crash Fatalities',\n",
        "    'Vehicle Occupants', \n",
        "    'Nonmotorists',\n",
        "    'Other National Statistics', \n",
        "    'National Rates: Fatalities'\n",
        "]\n",
        "\n",
        "nhtsa_nat_stats.drop(columns=columns_to_remove, inplace=True)"
      ]
    },
    {
      "cell_type": "code",
      "execution_count": null,
      "metadata": {},
      "outputs": [],
      "source": [
        "# Rename remaining columns for clarity \n",
        "nhtsa_nat_stats = nhtsa_nat_stats.rename(\n",
        "    columns={\n",
        "    'Drivers' : 'Driver Fatalities',\n",
        "    'Passengers' : 'Passenger Fatalities',\n",
        "    'Unknown' : 'Unknown Vehicle Occupant Fatalities',\n",
        "    'Sub Total1' : 'Total Vehicle Occupant Fatalities',\n",
        "    'Motorcyclists' : 'Motorcyclist Fatalities',\n",
        "    'Pedestrians' : 'Pedestrian Fatalities',\n",
        "    'Pedalcyclists' : 'Pedalcyclist Fatalities',\n",
        "    'Other/ Unknown' : 'Other/Unknown Nonmotorist Fatalities',\n",
        "    'Sub Total2' : 'Total Nonmotorist Fatalities',\n",
        "    'Total*' : 'Total Fatalities'\n",
        "    }\n",
        ")\n",
        "\n",
        "nhtsa_nat_stats.head()"
      ]
    },
    {
      "attachments": {},
      "cell_type": "markdown",
      "metadata": {},
      "source": [
        "Some of the units of measurements in the nhtsa national statistics data are poorly chosen, thus hindering interpretability. Specifically, the columns \"Vehicle Miles Traveled\", \"Resident Population\", \"Registered Vehicles\", and \"Licensed Drivers\" are all measured in thousands or billions yet also have column values in the thousands. This results in numbers such as \"2,358 billion\" and \"260,327 thousand\". While these aren't terribly hard to interpret, they do reduce ease of use and interpretation. Below, we resolve this issue by increasing the units of measurement in the aforementioned columns and accordingly scaling column values."
      ]
    },
    {
      "cell_type": "code",
      "execution_count": null,
      "metadata": {},
      "outputs": [],
      "source": [
        "# Store new names in list for better readability/conciseness and because they\n",
        "# will be used multiple times\n",
        "new_names = [\n",
        "    'Vehicle Miles Traveled (Trillions)',\n",
        "    'Resident Population (Millions)',\n",
        "    'Registered Vehicles (Millions)',\n",
        "    'Licensed Drivers (Millions)'\n",
        "]\n",
        "\n",
        "nhtsa_nat_stats = nhtsa_nat_stats.rename(\n",
        "    columns={\n",
        "    'Vehicle Miles Traveled (Billions)' : new_names[0],\n",
        "    'Resident Population (Thousands)' : new_names[1],\n",
        "    'Registered Vehicles (Thousands)' : new_names[2],\n",
        "    'Licensed Drivers (Thousands)' : new_names[3]\n",
        "    }\n",
        ")\n",
        "\n",
        "nhtsa_nat_stats[new_names] = nhtsa_nat_stats[new_names] / 1000\n",
        "\n",
        "nhtsa_nat_stats[new_names].head()"
      ]
    },
    {
      "attachments": {},
      "cell_type": "markdown",
      "metadata": {},
      "source": [
        "Below, we display the final, tidied version of the NHTSA National Statistics data."
      ]
    },
    {
      "cell_type": "code",
      "execution_count": null,
      "metadata": {},
      "outputs": [],
      "source": [
        "nhtsa_nat_stats.head()"
      ]
    },
    {
      "attachments": {},
      "cell_type": "markdown",
      "metadata": {
        "id": "1SvbLcja6bOc"
      },
      "source": [
        "# Step 3: Exploratory Analysis & Data Visualization"
      ]
    },
    {
      "attachments": {},
      "cell_type": "markdown",
      "metadata": {},
      "source": [
        "As a part of our exploration and analysis of the data, we will want to visualize it through graphs. To aid in this, we have defined a function for plotting columns of a dataframe against the indices/other columns of the same dataframe below. Note that if one wants to make additional modifications to the plot beyond those of this function, they need only make such modifications prior to calling it. "
      ]
    },
    {
      "cell_type": "code",
      "execution_count": null,
      "metadata": {},
      "outputs": [],
      "source": [
        "def plot_cols(df, y_cols, title, xlabel=None, ylabel=None, x_col=None):\n",
        "    \"\"\"\n",
        "    Plots the specified columns y_cols of the dataframe df against either the indices of\n",
        "    the dataframe or optionally a specified column x_col. All plotted lines will be on\n",
        "    the same graph, with a legend to differentiate them\n",
        "\n",
        "    If not specified, xlabel will default to x_col/index name and ylabel will default to y_cols[0]\n",
        "    \"\"\"\n",
        "\n",
        "    # y_cols is expected to be a type list, so if the user passes a single column name we\n",
        "    # want to make sure to convert it to a list of a single item\n",
        "    y_cols = [y_cols] if type(y_cols) == str else y_cols\n",
        "    # as explained above, y columns will be graphed against the dataframe indices if no column\n",
        "    # is specifed for the x-axis\n",
        "    x = df.index if x_col == None else df[x_col]\n",
        "    # setting to defaults, as defined above, if necessary\n",
        "    xlabel = df.columns.name if xlabel == None else xlabel\n",
        "    ylabel = y_cols[0] if ylabel == None else ylabel\n",
        "\n",
        "    # plots a line for each column\n",
        "    for y_col in y_cols:\n",
        "        plt.plot(x, df[y_col], label=y_col)\n",
        "    \n",
        "    plt.title(title)\n",
        "    plt.xlabel(xlabel)\n",
        "    plt.ylabel(ylabel)\n",
        "    plt.legend()\n",
        "    plt.show()"
      ]
    },
    {
      "cell_type": "code",
      "execution_count": null,
      "metadata": {},
      "outputs": [],
      "source": [
        "plt.xticks(range(0, len(nhtsa_nat_stats.index), 5))\n",
        "plot_cols(nhtsa_nat_stats, 'Fatal Crashes', 'Yearly Fatal Motor Vehicle Crashes in the U.S.')"
      ]
    },
    {
      "attachments": {},
      "cell_type": "markdown",
      "metadata": {
        "id": "XCeNi8ow6oQ8"
      },
      "source": [
        "# Step 4: Modeling and Further Analysis with Machine Learning and Statistics"
      ]
    },
    {
      "cell_type": "code",
      "execution_count": null,
      "metadata": {
        "id": "cR8livnT64Mf"
      },
      "outputs": [],
      "source": []
    },
    {
      "attachments": {},
      "cell_type": "markdown",
      "metadata": {
        "id": "RI3CDbzp6umC"
      },
      "source": [
        "# Step 5: Data Interpretation and Insight"
      ]
    },
    {
      "cell_type": "code",
      "execution_count": null,
      "metadata": {
        "id": "QbmXnuCn63vy"
      },
      "outputs": [],
      "source": []
    },
    {
      "attachments": {},
      "cell_type": "markdown",
      "metadata": {
        "id": "PqcD84UvOmgS"
      },
      "source": [
        "# Further Information for the Inquisitive Reader\n",
        "\n",
        "There are many advocates and advocacy groups, from local international, fighting to spread awareness about this issue and push for solutions to be implemented. Here a few are listed, as well as more general sources wherein the details of car dependency are discussed:\n",
        "> * <a href='https://en.wikipedia.org/wiki/Car_dependency'>Wikipedia</a> is always a good starting point.\n",
        "> * <a href='https://www.planetizen.com/definition/automobile-dependency'>Planetizen</a> and <a href='https://www.vtpi.org/tdm/tdm100.htm'>Victorya Transport Poliy Institute</a> both have very good articles defining and detailing some common aspects of car dependency.\n",
        "> * <a href='https://www.youtube.com/@NotJustBikes/featured'>Not Just Bikes</a>, courtesy of Jason Slaughter, became most popular 'urban planning' channel on YouTube as of 2022. Not Just Bikes explores Dutch urban design and transportation engineering with a focus on comparing it to American and Canadian development. Car dependency is a central topic throughout these videos.\n",
        "> * <a href='strongtowns.org'>Strong Towns</a> is an American advocacy organisation focused on local governance, city finances, and urban development. Its founder, Charles Marohn, served as a professional traffic engineer, and advocates for reduced car dependency in tandem with zoning reform and road design reform in the US."
      ]
    },
    {
      "attachments": {},
      "cell_type": "markdown",
      "metadata": {
        "id": "NFM1sWxxJDsP"
      },
      "source": [
        "# Bibliography\n",
        "https://ourworldindata.org/does-the-news-reflect-what-we-die-from 1\n",
        "https://www-fars.nhtsa.dot.gov/Main/index.aspx \\\\ 2\n",
        "https://nepis.epa.gov/Exe/ZyPDF.cgi?Dockey=P1013L1O.pdf 3"
      ]
    }
  ],
  "metadata": {
    "colab": {
      "provenance": []
    },
    "kernelspec": {
      "display_name": "Python 3",
      "name": "python3"
    },
    "language_info": {
      "codemirror_mode": {
        "name": "ipython",
        "version": 3
      },
      "file_extension": ".py",
      "mimetype": "text/x-python",
      "name": "python",
      "nbconvert_exporter": "python",
      "pygments_lexer": "ipython3",
      "version": "3.11.3"
    }
  },
  "nbformat": 4,
  "nbformat_minor": 0
}

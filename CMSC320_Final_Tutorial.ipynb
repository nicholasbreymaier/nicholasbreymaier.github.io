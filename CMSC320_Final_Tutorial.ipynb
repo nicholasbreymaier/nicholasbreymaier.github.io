{
  "cells": [
    {
      "attachments": {},
      "cell_type": "markdown",
      "metadata": {
        "id": "jg0AmjXTqGaQ"
      },
      "source": [
        "# **The Effects of Automobile Dependency in the United States**\n",
        "## Contributors: Nicholas Breymaier and Zachary Osborne\n",
        "Nicholas UID: 117920871 <br>\n",
        "Zachary UID: 117941609 <br>\n",
        "<a href='https://github.com/nicholasbreymaier/nicholasbreymaier.github.io'> Source Code </a>"
      ]
    },
    {
      "attachments": {},
      "cell_type": "markdown",
      "metadata": {
        "id": "dUJ94wXHtOsj"
      },
      "source": [
        "# Introduction\n",
        "A place, ranging from a neighborhood-scale to nation-scale geographic area, is referred to as <a href='https://www.planetizen.com/definition/automobile-dependency'>automobile dependent</a>, or car dependent, when the only means by which residents are realistically capable of reaching necessities is by driving a personal automobile. By necessities we mean any locations necessary to live a successful life in modern society, such as institutions of education, jobs, and grocery stores. For the purposes of this analysis, the term 'car' or 'automobile' includes standard sedans and station wagons as well as vans and <a href='https://www.ecfr.gov/current/title-40/chapter-I/subchapter-C/part-86/subpart-A/section-86.082-2'>light-duty trucks</a> such as Sport Utility Vehicles (SUVs) and pickup trucks.\n",
        "\n",
        "This project serves as an analysis of some of the conseqeuences of and alternatives to car dependency in the United States over time for the purpose of raising awareness, but is by no means meant to be a comprehensive review of the subject. For readers who are interested in learning more about the causes of car dependency and how to fix it, we strongly encourage that you do more research on the subject; the \"Further Information for Interested Readers\" section at the bottom of this webpage may serve as a good place to start.\n",
        "\n",
        "We will focus primarily on automobile dependency in the United States, but data from other countries will be used for comparative purposes.\n",
        "\n",
        "## The Importance of Automobile Dependency in the United States\n",
        "Over <a href='https://www.forbes.com/advisor/car-insurance/car-ownership-statistics'>90%</a> of households in the United States (US) owned at least one car in 2021, with more than <a href='https://www.forbes.com/advisor/car-insurance/car-ownership-statistics/'>59%</a> owning two or more cars owing to the commonness of married couples having seperate jobs. In 2015, over <a href='https://www.bts.gov/content/commute-mode-share-2015'>80%</a> of commutes were taken by car, as were <a href=\"https://www.epa.gov/greenvehicles/what-if-more-people-bought-groceries-online-instead-driving-store\">88%</a> of grocery store trips. As of 2019, over <a href='https://www.bloomberg.com/news/articles/2019-05-07/how-distance-to-school-affects-student-well-being#:~:text=Today%2C%20nearly%2060%20percent%20of,especially%20on%20sleep%20and%20exercise.'>60%</a> of students in primary and secondary education are driven to school. These trends arise because the vast majority of Americans simply have no other choice but to reach their destinations by driving, whether this be due to distance<a href='https://www.nrc.gov/docs/ML1006/ML100621425.pdf'>—the average commute is 15 miles—</a>or to lack of safety, which we address below. In both of these cases, there is a severe lack of safe, long distance alternatives such as <a href='https://www.apta.com/news-publications/public-transportation-facts/'>public transportation</a>. In other words, the United States <a href='https://www.vox.com/22662963/end-driving-obsession-connectivity-zoning-parking'>is car dependent</a>.\n",
        "\n",
        "This is problematic for <a href ='https://www.strongtowns.org/journal/2015/1/20/the-negative-consequences-of-car-dependency#:~:text=Living%20in%20a%20car%20dependent,)%20and%20indirect%20(taxes.)'>many reasons</a>, the most dire of which are environmental, financial, and mortal—that is, deadly. We are in the middle of the <a href='https://www.who.int/health-topics/climate-change#tab=tab_1'>climate crisis</a> scientists have been warning us of for decades, with a dire and immediate need to halt carbon emissions and find ways to help the ecosphere heal from the damage we've already done. In the midst of this, with transportation being the <a href='https://www.epa.gov/ghgemissions/sources-greenhouse-gas-emissions'>largest contributor</a> to the US's carbon output, the US Department of Transportation is still <a href='https://highways.dot.gov/federal-lands/projects/by-state'>building and widening</a> highways in <a href='https://www.vtpi.org/gentraf.pdf'>futile</a> attempts to relieve incessant conjestion brought about by people having no alternatives to driving, the very construction process of which emits grand quantities of greenhouse gases. This project analyzes the financial and mortal costs of car dependency in the US in more detail below.\n",
        "\n",
        "## Relevance in the Field of Data Science\n",
        "Coverage of causes of death by major media institutions in the United States <a href='https://ourworldindata.org/does-the-news-reflect-what-we-die-from'>fails to correlate</a> with what Americans die from, with automobile fatalities and pollution induced illnesses being covered at significantly lower proportions than the proportion of deaths they cause. This is likely due in part to the need for major media companies to \"keep up\" with the incessant and immediate news which is able to be transmitted via social media, which has lead to companies disproportunately covering eye catching topics like homicide and terrorism to maintain viewership and therefore advertisement revenue. This is part of a larger <a href='https://www.gsb.stanford.edu/insights/media-consolidation-means-less-local-news-more-right-wing-slant'>trend</a> wherein media consolidation into the hands of large corporations causes news stations to prioritize national news as opposed to local news, and often leads to right-wing political slant in coverage. Moreover, major US news corporations increasingly fail to critically examine institutions in relation to societal problems, opting to either not discuss them at all or to atomize important events which are symptoms of larger problems, as may be seen in the coverage of the recent East Palestine <a href='https://en.wikipedia.org/wiki/2023_Ohio_train_derailment'>train derailment</a>. Relying on the media is therefore not an effective way to build public awareness about systemic, societal problems.\n",
        "\n",
        "Data Science offers a promising alternative medium of news coverage as opposed to major media corporations and news transmitted via social media because it is significantly <a href='https://fivethirtyeight.com/features/what-the-fox-knows/'>less prone to outlier bias</a>. It is capable of analyzing long-term macro-level trends that would take the culmination of thousands of traditional articles to reveal, much less communicate, and may be seen as more democratic than the privately owned media corporations which currently dominate the US news landscape. Anyone with the requisite knowledge, a computer, and internet access can use data science to bring issues to light. This project hopes to demonstrate that data science can be used to generate awareness about important yet overlooked societal issues by using it to do so with car dependency."
      ]
    },
    {
      "attachments": {},
      "cell_type": "markdown",
      "metadata": {
        "id": "27oRouFi6Pkf"
      },
      "source": [
        "# Step 1: Data Collection"
      ]
    },
    {
      "cell_type": "code",
      "execution_count": null,
      "metadata": {
        "id": "7QkCv-vGpShb"
      },
      "outputs": [],
      "source": [
        "# First and foremost, we must import the necessary libraries for data\n",
        "# collection, tidying, visualization, analysis, modeling, and interpreting.\n",
        "import requests\n",
        "from bs4 import BeautifulSoup as bs\n",
        "import pandas as pd\n",
        "import matplotlib.pyplot as plt\n",
        "\n",
        "# Supress some warnings which have no relevance to what we're doing to prevent \n",
        "# output cluttering.\n",
        "import warnings\n",
        "warnings.simplefilter('ignore', FutureWarning)"
      ]
    },
    {
      "attachments": {},
      "cell_type": "markdown",
      "metadata": {
        "id": "FOts-3-_45_N"
      },
      "source": [
        "\n",
        "Thankfully, the United States Department of Transportation (DOT) National Highway Traffic Safety Administration (NHTSA) keeps a nicely detailed <a href='https://www-fars.nhtsa.dot.gov/Main/index.aspx'> table</a> displayed on its website with data on traffic fatalities from 1994 to 2020. This serves as a good starting point for discussing the death toll of American automobile dependency."
      ]
    },
    {
      "cell_type": "code",
      "execution_count": null,
      "metadata": {
        "id": "S8LR9zmoofYE"
      },
      "outputs": [],
      "source": [
        "# Use the python requests library to extract the data from the website.\n",
        "web_extract = requests.get(\n",
        "    'https://www-fars.nhtsa.dot.gov/Main/index.aspx').text\n",
        "\n",
        "# Organise and make legible the extracted html using the BeautifulSoup library.\n",
        "web_extract = bs(web_extract)\n",
        "web_extract.prettify()\n",
        "\n",
        "loci = web_extract.find('table')\n",
        "\n",
        "# Extract the html tables into pandas dataframes. Tables 1–9 were\n",
        "# stylistic elements in the website.\n",
        "nhtsa_nat_stats = pd.read_html(str(loci))[10]"
      ]
    },
    {
      "attachments": {},
      "cell_type": "markdown",
      "metadata": {
        "id": "N5YO-6h_ofYF"
      },
      "source": [
        "Next, we'll delve into more detailed <a href='https://www.bts.gov/topics/national-transportation-statistics'>data</a> courtesy of the DOT's Bureau of Transportation Statistics (BTS). From its national transportation statistics webpage, we'll download the <a href='https://www.bts.gov/content/transit-profile-0'>Transit Profile Spreadsheet</a>, the <a href='https://www.bts.gov/content/highway-profile'>Highway Profile Spreadsheet</a>, and the <a href='https://www.bts.gov/content/automobile-profile'>Automobile Profile Spreadsheet</a>."
      ]
    },
    {
      "cell_type": "code",
      "execution_count": null,
      "metadata": {
        "colab": {
          "base_uri": "https://localhost:8080/"
        },
        "id": "jU9PNDHV19n4",
        "outputId": "8bf5ec21-a34f-4084-b26f-e28944529caa"
      },
      "outputs": [],
      "source": [
        "# We'll use the requests library to download the spreadsheets directly using\n",
        "# their respective URLs.\n",
        "\n",
        "# Use requests to get the spreadsheets.\n",
        "transitSpreadsheet = requests.get('https://www.bts.gov/sites/bts.dot.gov/files/2023-03/table_transit_profile_032123.xlsx')\n",
        "highwaySpreadsheet = requests.get('https://www.bts.gov/sites/bts.dot.gov/files/2022-07/table_highway_profile_072322.xlsx')\n",
        "automobileSpreadsheet = requests.get('https://www.bts.gov/sites/bts.dot.gov/files/2022-04/table_automobile_profile_042522.xlsx')\n",
        "\n",
        "# Write the spreadsheets directly to local files for easy access.\n",
        "outfile = open('table_transit_profile_032123.xlsx', 'wb')\n",
        "outfile.write(transitSpreadsheet.content)\n",
        "\n",
        "outfile = open('table_highway_profile_072322.xlsx', 'wb')\n",
        "outfile.write(highwaySpreadsheet.content)\n",
        "\n",
        "outfile = open('table_automobile_profile_042522.xlsx', 'wb');\n",
        "outfile.write(automobileSpreadsheet.content);"
      ]
    },
    {
      "attachments": {},
      "cell_type": "markdown",
      "metadata": {
        "id": "T1lVD8QGofYF"
      },
      "source": [
        "For all 3 of the BTS profile spreadsheets (transit, highway, and automobile), read into DataFrames, but exclude irrelevant rows of information and irrelevant columns corresponding to years we will not be using. As the information is organized in the spreadsheets, rows are variable names, so we exclude rows corresponding to worthless or irrelevant variables."
      ]
    },
    {
      "cell_type": "code",
      "execution_count": null,
      "metadata": {
        "id": "cNGb9BjhofYF"
      },
      "outputs": [],
      "source": [
        "# Read the transit spreadsheet information into a pandas DataFrame.\n",
        "\n",
        "# Irrelevant information grouping headers such as \"FINANCIAL\" and \"PERFORMANCE.\"\n",
        "blank_headers = [2, 45, 73, 140]\n",
        "# Groups of variables which we will not be analyzing such as passenger fare per\n",
        "# trip.\n",
        "undesired_data = list(range(27, 45)) + list(range(46, 73)) + \\\n",
        "list(range(74, 92)) + list(range(101, 140)) + list(range(159, 168))\n",
        "\n",
        "# Read the excel file into a DataFrame, ignoring the rows laid out in the above\n",
        "# lists. Use the 1st row as column labels since 0th row is empty. Only reads the\n",
        "# first 165 rows since they are the only rows containing data.\n",
        "transit_data = pd.read_excel(\n",
        "    'table_transit_profile_032123.xlsx', \n",
        "    header=1, \n",
        "    index_col=0, \n",
        "    nrows=165,\n",
        "    skiprows=blank_headers+undesired_data,\n",
        "    usecols=[0]+list(range(5, 31))\n",
        ")\n",
        "\n",
        "# Repeat the aboe process for the highway spreadsheet.\n",
        "\n",
        "blank_headers = [2, 24, 67, 86]\n",
        "undesired_data = list(range(25, 67)) + list(range(83, 86)) + [89]\n",
        "\n",
        "highway_data = pd.read_excel(\n",
        "    'table_highway_profile_072322.xlsx', \n",
        "    header=1, \n",
        "    index_col=0, \n",
        "    nrows=87,\n",
        "    skiprows=blank_headers+undesired_data,\n",
        "    usecols=[0]+list(range(5, 31))\n",
        ")\n",
        "\n",
        "# Repeat the aboe process for the automobile spreadsheet.\n",
        "\n",
        "blank_headers = [2, 14, 26, 72]\n",
        "undesired_data = [13] + list(range(15, 26)) + list(range(27, 52)) + list(range(56, 72)) + list(range(80, 105))\n",
        "\n",
        "automobile_data = pd.read_excel(\n",
        "    'table_automobile_profile_042522.xlsx', \n",
        "    header=1, \n",
        "    index_col=0, \n",
        "    nrows=102,\n",
        "    skiprows=blank_headers+undesired_data,\n",
        "    usecols=[0]+list(range(5, 31))\n",
        ");\n",
        "\n",
        "#automobile_data.head()\n",
        "#highway_data.head()\n",
        "#transit_data.head()"
      ]
    },
    {
      "attachments": {},
      "cell_type": "markdown",
      "metadata": {
        "id": "lW3zFizV6Xvp"
      },
      "source": [
        "# Step 2: Data Processing\n"
      ]
    },
    {
      "attachments": {},
      "cell_type": "markdown",
      "metadata": {
        "id": "ZC5N5aZuTD9i"
      },
      "source": [
        "### NHTSA Data\n",
        "The NHTSA crash fatality data we extracted is far from tidy, so we shall clean and organise it here.\\\n",
        "Firstly, this DataFrame holds features in its rows and observations in its columns. Obervations are, in this case, years. We therefore transpose the dataframe to make the rows observations and the columns features."
      ]
    },
    {
      "cell_type": "code",
      "execution_count": null,
      "metadata": {
        "id": "N2cgApb56dvz"
      },
      "outputs": [],
      "source": [
        "# We will want these to be the column labels after transposing the DataFrame.\n",
        "nhtsa_nat_stats = nhtsa_nat_stats.set_index('Unnamed: 0')\n",
        "\n",
        "# Transpose the DataFrame.\n",
        "nhtsa_nat_stats = nhtsa_nat_stats.transpose()\n",
        "\n",
        "# Rename index column to 'Year' and sort data chronologically.\n",
        "nhtsa_nat_stats.index.name = 'Year'\n",
        "nhtsa_nat_stats = nhtsa_nat_stats.sort_index()\n",
        "\n",
        "nhtsa_nat_stats.columns.name = None\n",
        "\n",
        "nhtsa_nat_stats.head()"
      ]
    },
    {
      "attachments": {},
      "cell_type": "markdown",
      "metadata": {
        "id": "8gYvkVydhWIk"
      },
      "source": [
        "The original NHTSA data table groups its features into various categories via extra, empty features which essentially function as \"headers\". This is a very messy way to do this, and furthermore having the categorization within the table is unnecessary. Here, we remove the unnecessary columns and rename the rest for clarity and to preserve information which would otherwise have been lost during the purging of the headers."
      ]
    },
    {
      "cell_type": "code",
      "execution_count": null,
      "metadata": {
        "id": "IuhJfn7KhIw-"
      },
      "outputs": [],
      "source": [
        "# Drop empty header columns.\n",
        "columns_to_remove = [\n",
        "    'Motor Vehicle Traffic Crashes', \n",
        "    'Traffic Crash Fatalities',\n",
        "    'Vehicle Occupants', \n",
        "    'Nonmotorists',\n",
        "    'Other National Statistics', \n",
        "    'National Rates: Fatalities'\n",
        "]\n",
        "\n",
        "nhtsa_nat_stats.drop(columns=columns_to_remove, inplace=True)\n",
        "\n",
        "# Rename remaining columns for clarity \n",
        "nhtsa_nat_stats = nhtsa_nat_stats.rename(\n",
        "    columns={\n",
        "        'Drivers' : 'Driver Fatalities',\n",
        "        'Passengers' : 'Passenger Fatalities',\n",
        "        'Unknown' : 'Unknown Vehicle Occupant Fatalities',\n",
        "        'Sub Total1' : 'Total Vehicle Occupant Fatalities',\n",
        "        'Motorcyclists' : 'Motorcyclist Fatalities',\n",
        "        'Pedestrians' : 'Pedestrian Fatalities',\n",
        "        'Pedalcyclists' : 'Pedalcyclist Fatalities',\n",
        "        'Other/ Unknown' : 'Other/Unknown Nonmotorist Fatalities',\n",
        "        'Sub Total2' : 'Total Nonmotorist Fatalities',\n",
        "        'Total*' : 'Total Fatalities'\n",
        "    }\n",
        ")\n",
        "\n",
        "# Drop columns whose data we will not be using.\n",
        "columns_to_remove = [\n",
        "    'Fatal Crashes',\n",
        "    'Passenger Fatalities', # This is already in the ! profile table.\n",
        "    'Unknown Vehicle Occupant Fatalities',\n",
        "    'Motorcyclist Fatalities',\n",
        "    'Pedestrian Fatalities',\n",
        "    'Pedalcyclist Fatalities',\n",
        "    'Other/Unknown Nonmotorist Fatalities', # Unknown nature → hard to analyze.\n",
        "    'Total Fatalities',\n",
        "    'Vehicle Miles Traveled (Billions)',\n",
        "    'Fatalities per 100 Million Vehicle Miles Traveled',\n",
        "    'Fatalities per 100,000 Registered Vehicles',\n",
        "    'Fatalities per 100,000 Licensed Drivers'\n",
        "]\n",
        "\n",
        "nhtsa_nat_stats.drop(columns=columns_to_remove, inplace=True)\n",
        "\n",
        "# The year 1994 is not included in any of the other data tables, so it will not\n",
        "# contribute to our analysis.\n",
        "nhtsa_nat_stats.drop(index='1994', inplace=True)\n",
        "\n",
        "nhtsa_nat_stats.head();"
      ]
    },
    {
      "attachments": {},
      "cell_type": "markdown",
      "metadata": {
        "id": "rOe0bkAzofYI"
      },
      "source": [
        "### Transit Profile Data\n",
        "The transit profile suffers from the same data organisation perils which plagued the NHTSA dataset. Namely, its rows store varible names and its columns store observaton labels, with these being years.\n",
        "We therefore transpose the transit profile DataFrame in order to tidy it such that its variable names are its column labels and its observation identifiers (years) are its indices. We then rename columns which were either poorly labeled or had errors in their labels."
      ]
    },
    {
      "cell_type": "code",
      "execution_count": null,
      "metadata": {
        "id": "Y9MP0YLjofYI"
      },
      "outputs": [],
      "source": [
        "# Transpose the datafame as discussed above.\n",
        "transit_data = transit_data.transpose()\n",
        "# Set years as indices since the data's observations are different years.\n",
        "transit_data.index.name = 'Year'\n",
        "\n",
        "# Rename columns to facilitate readability and fix errors which arose when\n",
        "# reading superscript characters from original Excel sheet into pandas.\n",
        "transit_data = transit_data.rename(\n",
        "    columns={\n",
        "        'Light raila' : 'Light rail',\n",
        "        'Light raila ' : 'Light rail',\n",
        "        'Ferryboatb' : 'Ferryboat',\n",
        "        'Otherc' : 'Other',\n",
        "        'Operating assistanced, total' : 'Operating assistance, total',\n",
        "        'Commuter railf' : 'Commuter rail',\n",
        "        'Injured persons, all modesk' : 'Injured persons, all modes'\n",
        "    }\n",
        ");"
      ]
    },
    {
      "attachments": {},
      "cell_type": "markdown",
      "metadata": {
        "id": "uCRHQW85ofYJ"
      },
      "source": [
        "Lastly, we remove the columns we will not be working with to minimise clutter. These are mostly sub-categories of data which we intend to analyze on the macro-level."
      ]
    },
    {
      "cell_type": "code",
      "execution_count": null,
      "metadata": {
        "id": "ZywF_iqXofYJ"
      },
      "outputs": [],
      "source": [
        "# Remove worthless and undesired columns.\n",
        "columns_to_remove = [\n",
        "    'Motor bus',\n",
        "    'Heavy rail',\n",
        "    'Light rail',\n",
        "    'Trolley bus',\n",
        "    'Demand responsive',\n",
        "    'Ferryboat',\n",
        "    'Commuter rail',\n",
        "    'Other',\n",
        "    'Other operating revenue',\n",
        "    'Operating assistance, total',\n",
        "    'State and local',\n",
        "    'Federal'\n",
        "]\n",
        "\n",
        "transit_data.drop(columns=columns_to_remove, inplace=True);"
      ]
    },
    {
      "attachments": {},
      "cell_type": "markdown",
      "metadata": {
        "id": "2lS8A3gWofYJ"
      },
      "source": [
        "\"Passenger operating revenues, total (millions of dollars)\" functions as a header for \"Operating revenues, total\" and \"Passenger fares, total\" so we have to rename them the sub-categories to reflect the information which would otherwise be lost upon dropping the header column."
      ]
    },
    {
      "cell_type": "code",
      "execution_count": null,
      "metadata": {
        "id": "qtgwNOZPofYJ"
      },
      "outputs": [],
      "source": [
        "# Rename relevant subcategory column labels.\n",
        "transit_data.rename(\n",
        "    columns={\n",
        "        'Operating revenues, total' : 'Operating revenues, total (millions of dollars)',\n",
        "        'Passenger fares, total' : 'Passenger fares, total (millions of dollars)'\n",
        "    },\n",
        "    inplace=True\n",
        ")\n",
        "\n",
        "# Drop empty header column.\n",
        "transit_data.drop(columns='Passenger operating revenues, total (millions of dollars)', inplace=True)\n",
        "\n",
        "# Behold the fruits of our labour!\n",
        "transit_data.head()"
      ]
    },
    {
      "attachments": {},
      "cell_type": "markdown",
      "metadata": {
        "id": "dnS0LQjOofYK"
      },
      "source": [
        "### Highway Profile Data\n",
        "We will now tidy the highway profile data in precisely the same way we tidied the transit profile data since they suffer from the same problems owning to their identical structural layouts."
      ]
    },
    {
      "cell_type": "code",
      "execution_count": null,
      "metadata": {
        "id": "MXYvPGLrofYK"
      },
      "outputs": [],
      "source": [
        "# Transpose to assure column labels are variable names and row indices are\n",
        "# observations.\n",
        "highway_data = highway_data.transpose()\n",
        "highway_data.index.name = 'Year' # Set index row to Year.\n",
        "\n",
        "# Rename columns to purge import errors and enhance readability.\n",
        "highway_data = highway_data.rename(\n",
        "    columns={\n",
        "        'Highway trust funda' : 'Highway trust fund',\n",
        "        'Otherb' : 'Other',\n",
        "        'State highway user tax revenuesc, total (millions of dollars)' : 'State highway user tax revenues, total (millions of dollars)',\n",
        "        'Other motor fuel receiptsd' : 'Other motor fuel receipts',\n",
        "        'Other motor vehicle feese' : 'Other motor vehicle fees',\n",
        "        'Motor carrier taxesf' : 'Motor carrier taxes',\n",
        "        'Miscellaneous feesg' : 'Miscellaneous fees',\n",
        "        'Vehicle-miles of travel by functional system (millions), total n' : 'Vehicle-miles of travel by functional system (millions), total',\n",
        "        'Collectorj' : 'Collector'\n",
        "    }\n",
        ")\n",
        "\n",
        "# Finally, remove columns containing data which we will not use.\n",
        "columns_to_remove=[\n",
        "    'Federal, total',\n",
        "    'Highway trust fund',\n",
        "    'Other',\n",
        "    'State and local, total',\n",
        "    'State and D.C.',\n",
        "    'Local',\n",
        "    'Motor fuel tax',\n",
        "    'Other motor fuel receipts',\n",
        "    'Motor vehicle registration fees ',\n",
        "    'Other motor vehicle fees',\n",
        "    'Motor carrier taxes',\n",
        "    'Miscellaneous fees',\n",
        "    'Rural mileage, total',\n",
        "    'Interstate',\n",
        "    'Interstate ',\n",
        "    'Other freeways and expressways',\n",
        "    'Other principal arterial',\n",
        "    'Minor arterial',\n",
        "    'Collector',\n",
        "    'Urban mileage, total'\n",
        "]\n",
        "\n",
        "highway_data.drop(columns=columns_to_remove, inplace=True)\n",
        "\n",
        "# Display our beautifully tidied data: \n",
        "highway_data.head()"
      ]
    },
    {
      "attachments": {},
      "cell_type": "markdown",
      "metadata": {
        "id": "omvLcZKaofYL"
      },
      "source": [
        "### Automobile Profile Data\n",
        "Repeat data tidying steps on the automobile profile data."
      ]
    },
    {
      "cell_type": "code",
      "execution_count": null,
      "metadata": {
        "id": "clvl0e78ofYL"
      },
      "outputs": [],
      "source": [
        "# Make column labels variables and row indices observations.\n",
        "automobile_data = automobile_data.transpose()\n",
        "automobile_data.index.name = 'Year' # Year is our index.\n",
        "\n",
        "# Remove column label name errors.\n",
        "automobile_data = automobile_data.rename(\n",
        "    columns={\n",
        "        'Personal auto expenditures, totala (millions of dollars)' : 'Personal auto expenditures, total (millions of dollars)',\n",
        "        'Light duty vehicle, short wheel basec,j' : 'Light duty vehicle, short wheel base',\n",
        "        'Light duty vehicle, long wheel basee,j' : 'Light duty vehicle, long wheel base',\n",
        "        'Motorcyclef,i' : 'Motorcycle',\n",
        "        'Bicycled' : 'Bicycle',\n",
        "        'Pedestriand' : 'Pedestrian'\n",
        "    }\n",
        ")\n",
        "\n",
        "# Remove columns which we shall not be using.\n",
        "columns_to_remove = [\n",
        "    'New cars',\n",
        "    'Used cars',\n",
        "    'Parts and accessories',\n",
        "    'Gasoline and oil',\n",
        "    'Maintainence and repair',\n",
        "    'Other services',\n",
        "    'Insurance premiums less claims paid',\n",
        "    'Auto registration fees',\n",
        "    'Driver\\'s license fees',\n",
        "    'Light duty vehicle, short wheel base',\n",
        "    'Light duty vehicle, long wheel base',\n",
        "    'Motorcycle',\n",
        "    'Passenger car',\n",
        "    'Light truck',\n",
        "    'Bicycle',\n",
        "    'Pedestrian',\n",
        "    'Other/Unknown'\n",
        "]\n",
        "\n",
        "automobile_data.drop(columns=columns_to_remove, inplace=True)\n",
        "\n",
        "# Tidy tidy tidy!\n",
        "automobile_data.head()"
      ]
    },
    {
      "attachments": {},
      "cell_type": "markdown",
      "metadata": {
        "id": "KxRHyekgofYL"
      },
      "source": [
        "### Combining the Data\n",
        "Herein we shall combine the DataFrames we have tidied in order to have all of our data in one place in preparation for visualization and analysis."
      ]
    },
    {
      "cell_type": "code",
      "execution_count": null,
      "metadata": {
        "id": "MAFUvSwUofYM"
      },
      "outputs": [],
      "source": [
        "# First, we must confirm that the data types of each DataFrame's indices match\n",
        "# before we combine them to avoid errors and incompatibility.\n",
        "print(f'Transit index type: {transit_data.index.dtype}')\n",
        "print(f'Highway index type: {highway_data.index.dtype}')\n",
        "print(f'Automobile index type: {automobile_data.index.dtype}')\n",
        "print(f'NHTSA index type: {nhtsa_nat_stats.index.dtype}')"
      ]
    },
    {
      "cell_type": "code",
      "execution_count": null,
      "metadata": {
        "id": "AlEADQQuofYM"
      },
      "outputs": [],
      "source": [
        "# It looks like the NHTSA data's index is of type object as opposed to type\n",
        "# int64, which all of the other dataframes use for indicies. Therefore, we set\n",
        "# the NHTSA dataframe's index to match that of the other dataframes.\n",
        "nhtsa_nat_stats.index = nhtsa_nat_stats.index.astype(transit_data.index.dtype)\n",
        "\n",
        "nhtsa_nat_stats.index.dtype # It worked :)"
      ]
    },
    {
      "cell_type": "code",
      "execution_count": null,
      "metadata": {
        "id": "oIsoblESofYm"
      },
      "outputs": [],
      "source": [
        "# Combine the DataFrames we've created. Use multi-indexed column labels to\n",
        "# keep track of the original data sources for each column.\n",
        "full_df = pd.concat(\n",
        "    {\n",
        "        'NHTSA Stats' : nhtsa_nat_stats, \n",
        "        'Transit Profile' : transit_data,\n",
        "        'Highway Profile' : highway_data,\n",
        "        'Automobile Profile' : automobile_data\n",
        "    },\n",
        "    axis=1\n",
        ")\n",
        "\n",
        "# At last, all of our data is in one DataFrame and is formatted properly.\n",
        "full_df.head()"
      ]
    },
    {
      "cell_type": "code",
      "execution_count": null,
      "metadata": {
        "id": "CYf2FTT1ofYn"
      },
      "outputs": [],
      "source": [
        "# Rename column labels once more for conciseness and readability.\n",
        "full_df.rename(\n",
        "    columns={\n",
        "        'Total Vehicle Occupant Fatalities' : 'Vehicle Occupant Fatalities',\n",
        "        'Total Nonmotorist Fatalities' : 'Nonmotorist Fatalities',\n",
        "        'Resident Population (Thousands)' : 'Resident Population (Thousands)',\n",
        "        'Registered Vehicles (Thousands)' : 'Registered Vehicles (Thousands)',\n",
        "        'Licensed Drivers (Thousands)' : 'Licensed Drivers (Thousands)',\n",
        "        'Operating revenues, total (millions of dollars)' : 'Operating Revenues (Millions USD)',\n",
        "        'Passenger fares, total (millions of dollars)' : 'Passenger Fares (Millions USD)',\n",
        "        'Operating expenses, total (millions of dollars)' : 'Operating Expenses (Millions USD)',\n",
        "        'Passenger-miles, total (millions)' : 'Passenger-Miles (Millions)',\n",
        "        'Fatalities, all modes' : 'Fatalities',\n",
        "        'Injured persons, all modes' : 'Injured Persons',\n",
        "        'Government receipts, total (millions of dollars)' : 'Gov Receipts (Millions USD)',\n",
        "        'Government expenditures, total (millions of dollars)' : 'Gov Expenditures (Millions USD)',\n",
        "        'State highway user tax revenues, total (millions of dollars)' : 'State Highway User Tax Revenues (Millions USD)',\n",
        "        'Vehicle-miles of travel by functional system (millions), total' : 'Vehicle-Miles (Millions)',\n",
        "        'Injured persons' : 'Injured Persons',\n",
        "        'Personal auto expenditures, total (millions of dollars)' : 'Personal Auto Expenditures (Millions USD)',\n",
        "        'Number of occupants and nonoccupant fatalities' : 'Fatalities'\n",
        "    },\n",
        "    inplace=True\n",
        ")\n",
        "\n",
        "full_df.columns.values;"
      ]
    },
    {
      "attachments": {},
      "cell_type": "markdown",
      "metadata": {
        "id": "FwDw1tCfofYn"
      },
      "source": [
        "## Missing Data Interpolation\n",
        "In this section, we deal with missing data from the tables we extracted. Fortunately, the Highway Profile from the DOT BTS was the only dataset which contained missing values in columns we care about. From the <a href='https://www.bts.gov/content/highway-profile'>website</a> we extracted it from, we see that values marked with a \"U\" or an \"N\" are missing values."
      ]
    },
    {
      "cell_type": "code",
      "execution_count": null,
      "metadata": {
        "id": "mtzmrhZgofYn"
      },
      "outputs": [],
      "source": [
        "# Here we display some examples of missing data from the highway profile. Note\n",
        "# the \"U\"s in the output:\n",
        "full_df[[('Highway Profile', 'Gov Receipts (Millions USD)'), \n",
        "         ('Highway Profile', 'Gov Expenditures (Millions USD)')]].tail(10)"
      ]
    },
    {
      "cell_type": "code",
      "execution_count": null,
      "metadata": {
        "id": "tNVh5xmxofYn"
      },
      "outputs": [],
      "source": [
        "# Replace all missing values with NaN for easy identification.\n",
        "full_df.replace(['U', 'N'], float('NaN'), inplace=True)\n",
        "\n",
        "# Here we see that the values output before have been successfully replaced\n",
        "# with NaN.\n",
        "full_df[[('Highway Profile', 'Gov Receipts (Millions USD)'),\n",
        "         ('Highway Profile', 'Gov Expenditures (Millions USD)')]].tail(10)"
      ]
    },
    {
      "attachments": {},
      "cell_type": "markdown",
      "metadata": {},
      "source": [
        "This data is likely missing completely at random due to government data collection shenanegans. It is extremely unlikely that the missing data are outlier values, as federal budget spending is not exactly known for its wild changes from year to year due in part to the quibbling and compromising ubuqiutous in Congress. We will therefore use hot-deck imputation to replace missing values by the value from the previous year, using pandas fillna(method='ffill') to do so.\n",
        "\n",
        "We do not think that this interpolation will have any significant effects on the analysis of the data, as only 6 values, evenly split between two variables, are missing in the entire DataFrame. If later data analysis and visualization seems to imply that the missing data is important, we will perform further analysis."
      ]
    },
    {
      "cell_type": "code",
      "execution_count": null,
      "metadata": {},
      "outputs": [],
      "source": [
        "# Perform imputation:\n",
        "full_df.fillna(method='ffill', inplace=True)"
      ]
    },
    {
      "attachments": {},
      "cell_type": "markdown",
      "metadata": {
        "id": "87lPAXfHofYn"
      },
      "source": [
        "## Feature Value Type Uniformity\n",
        "Here, we standardize the data types of the DataFrame columns, by making them all numeric. We must be careful as we do this not to lose information by converting perfectly good data to \"NaN.\" Per the <a href='https://www.bts.gov/content/highway-profile'>website</a> whence we obtained the data, some values are marked with (R) to indicate that they have been revised, so we must be careful when converting these to numerical type so as to not convert these to \"NaN\" since them \"(R)\" makes them strings."
      ]
    },
    {
      "cell_type": "code",
      "execution_count": null,
      "metadata": {
        "id": "CBiu2It9ofYo"
      },
      "outputs": [],
      "source": [
        "# First convert all values to strings so they're easier to work with.\n",
        "full_df = full_df.astype(str)\n",
        "\n",
        "# Remove (R) marker from revised values:\n",
        "for col in full_df:\n",
        "    full_df[col] = full_df[col].str.replace(r'(R)', '')\n",
        "\n",
        "# Convert all values/columns to numeric type:\n",
        "full_df = full_df.apply(pd.to_numeric)\n",
        "\n",
        "# Our data is finally ready for use!\n",
        "full_df"
      ]
    },
    {
      "attachments": {},
      "cell_type": "markdown",
      "metadata": {
        "id": "0CgQ51GqofYo"
      },
      "source": [
        "Keeping the below as an example in case we need to do something similar later, remove before submitting\n",
        "\n",
        "essentially converts header column structure to multi-index structure"
      ]
    },
    {
      "cell_type": "code",
      "execution_count": null,
      "metadata": {
        "id": "n34jxq8zofYo"
      },
      "outputs": [],
      "source": [
        "# # preserving information which would otherwise be lost due to removal of the sub-header formatting of\n",
        "# # the first 15 columns\n",
        "# trans_p = trans_p.rename(\n",
        "#     columns={\n",
        "#         'Operating revenues, total' : 'Total operating revenues',\n",
        "#         'Passenger fares, total' : 'Total passenger fares',\n",
        "#         'Other operating revenue' : 'Non-fare operating revenue',\n",
        "#         'Operating assistance, total' : 'Total operating assistance',\n",
        "#         'State and local' : 'State and local operating assistance',\n",
        "#         'Federal' : 'Federal operating assistance'\n",
        "#     }\n",
        "# )\n",
        "# for i in range(3, 11):\n",
        "#     trans_p.columns.values[i] += ' passenger fares'\n",
        "\n",
        "# # Renaming columns to remove information which will soon be contained in the top-level columns\n",
        "# trans_p = trans_p.rename(\n",
        "#     columns={\n",
        "#         'Passenger operating revenues, total (millions of dollars)' : 'Total',\n",
        "#         'Operating expenses, total (millions of dollars)' : 'Total',\n",
        "#         'Average passenger revenue per passenger-mile, all modes (dollars)' : 'All modes',\n",
        "#         'Number of vehicles, total' : 'Total',\n",
        "#         'Vehicle-miles, total (millions)' : 'Total',\n",
        "#         'Passenger-miles, total (millions)' : 'Total',\n",
        "#         'Energy consumption, diesel, total (million gallons)' : 'Total',\n",
        "#         'Energy consumption, other, total (million gallons)' : 'Total',\n",
        "#         'Energy consumption, electric power, total (million kWh)' : 'Total',\n",
        "#         'Fatalities, all modes' : 'All modes',\n",
        "#         'Injured persons, all modes' : 'All modes',\n",
        "#         'Incidents, all modes' : 'All modes'\n",
        "#     }\n",
        "# )\n",
        "\n",
        "# headers = (\n",
        "#     ['Passenger Operating Revenues (Millions USD)'] * 15\n",
        "#     + ['Operating Expenses (Millions USD)'] * 9\n",
        "#     + ['Avg Passenger Revenue Per Passenger Mile (USD)'] * 9\n",
        "#     + ['Number of Vehicles'] * 9\n",
        "#     + ['Vehicle Miles (Millions)'] * 9\n",
        "#     + ['Passenger Miles (Millions)'] * 9\n",
        "#     + ['Diesel Energy Consumption (Million Gallons)'] * 9\n",
        "#     + ['Other Energy Consumption (Million Gallons)'] * 3\n",
        "#     + ['Electric Energy Consumption (Million kWh)'] * 9\n",
        "#     + ['Fatalities'] * 9\n",
        "#     + ['Injured Persons'] * 9\n",
        "#     + ['Incidents'] * 9\n",
        "# )\n",
        "\n",
        "# trans_p.columns = pd.MultiIndex.from_tuples(list(zip(headers, trans_p.columns)))\n",
        "\n",
        "# trans_p.head()"
      ]
    },
    {
      "attachments": {},
      "cell_type": "markdown",
      "metadata": {
        "id": "1SvbLcja6bOc"
      },
      "source": [
        "# Step 3: Exploratory Analysis & Data Visualization"
      ]
    },
    {
      "attachments": {},
      "cell_type": "markdown",
      "metadata": {
        "id": "g2BLRnpQofYp"
      },
      "source": [
        "As a part of our exploration and analysis of the data, we will want to visualize it through graphs. To aid in this, we have defined a function for plotting columns of a dataframe against the indices/other columns of the same dataframe below. Note that if one wants to make additional modifications to the plot beyond those of this function, they need only make such modifications prior to calling it. "
      ]
    },
    {
      "cell_type": "code",
      "execution_count": null,
      "metadata": {
        "id": "NWEVVfylofYp"
      },
      "outputs": [],
      "source": [
        "def plot_cols(df, y_cols, title, xlabel=None, ylabel=None, x_col=None):\n",
        "    \"\"\"\n",
        "    Plots the specified columns y_cols of the dataframe df against either the indices of\n",
        "    the dataframe or optionally a specified column x_col. All plotted lines will be on\n",
        "    the same graph, with a legend to differentiate them\n",
        "\n",
        "    If not specified, xlabel will default to x_col/index name and ylabel will default to y_cols[0]\n",
        "    \"\"\"\n",
        "\n",
        "    # y_cols is expected to be a type list, so if the user passes a single column name we\n",
        "    # want to make sure to convert it to a list of a single item\n",
        "    y_cols = [y_cols] if type(y_cols) == str else y_cols\n",
        "    # as explained above, y columns will be graphed against the dataframe indices if no column\n",
        "    # is specifed for the x-axis\n",
        "    x = df.index if x_col == None else df[x_col]\n",
        "    # setting to defaults, as defined above, if necessary\n",
        "    xlabel = df.columns.name if xlabel == None else xlabel\n",
        "    ylabel = y_cols[0] if ylabel == None else ylabel\n",
        "\n",
        "    # plots a line for each column\n",
        "    for y_col in y_cols:\n",
        "        plt.plot(x, df[y_col], label=y_col)\n",
        "    \n",
        "    plt.title(title)\n",
        "    plt.xlabel(xlabel)\n",
        "    plt.ylabel(ylabel)\n",
        "    plt.legend()\n",
        "    plt.show()"
      ]
    },
    {
      "cell_type": "code",
      "execution_count": null,
      "metadata": {
        "id": "XFVXpzgJofYp"
      },
      "outputs": [],
      "source": [
        "plt.xticks(range(0, len(nhtsa_nat_stats.index), 5))\n",
        "plot_cols(nhtsa_nat_stats, 'Fatal Crashes', 'Yearly Fatal Motor Vehicle Crashes in the U.S.')"
      ]
    },
    {
      "attachments": {},
      "cell_type": "markdown",
      "metadata": {
        "id": "XCeNi8ow6oQ8"
      },
      "source": [
        "# Step 4: Modeling and Further Analysis with Machine Learning and Statistics"
      ]
    },
    {
      "cell_type": "code",
      "execution_count": null,
      "metadata": {
        "id": "cR8livnT64Mf"
      },
      "outputs": [],
      "source": []
    },
    {
      "attachments": {},
      "cell_type": "markdown",
      "metadata": {
        "id": "RI3CDbzp6umC"
      },
      "source": [
        "# Step 5: Data Interpretation and Insight"
      ]
    },
    {
      "cell_type": "code",
      "execution_count": null,
      "metadata": {
        "id": "QbmXnuCn63vy"
      },
      "outputs": [],
      "source": []
    },
    {
      "attachments": {},
      "cell_type": "markdown",
      "metadata": {
        "id": "PqcD84UvOmgS"
      },
      "source": [
        "# Further Information for Interested Persons\n",
        "\n",
        "There are many advocates and advocacy groups, from local international, fighting to spread awareness about this issue and push for solutions to be implemented. Here a few are listed, as well as some sources of more information about car dependency:\n",
        "> * <a href='https://en.wikipedia.org/wiki/Car_dependency'>Wikipedia</a> is always a good starting point.\n",
        "> * <a href='https://www.planetizen.com/definition/automobile-dependency'>Planetizen</a> and <a href='https://www.vtpi.org/tdm/tdm100.htm'>Victoria Transport Poliy Institute</a> both have very good articles defining and detailing some common aspects of car dependency.\n",
        "> * <a href='https://www.youtube.com/@NotJustBikes/featured'>Not Just Bikes</a>, courtesy of Jason Slaughter, became most popular 'urban planning' channel on YouTube as of 2022. Not Just Bikes explores Dutch urban design and transportation engineering with a focus on comparing it to American and Canadian development. Car dependency is a central topic throughout these videos.\n",
        "> * <a href='strongtowns.org'>Strong Towns</a> is an American advocacy organisation focused on local governance, city finances, and urban development. Its founder, Charles Marohn, served as a professional traffic engineer, and advocates for reduced car dependency in tandem with zoning reform and road design reform in the US."
      ]
    },
    {
      "attachments": {},
      "cell_type": "markdown",
      "metadata": {
        "id": "NFM1sWxxJDsP"
      },
      "source": [
        "# Bibliography\n",
        "(3) https://nepis.epa.gov/Exe/ZyPDF.cgi?Dockey=P1013L1O.pdf 3 <br>"
      ]
    }
  ],
  "metadata": {
    "colab": {
      "provenance": []
    },
    "kernelspec": {
      "display_name": "Python 3",
      "name": "python3"
    },
    "language_info": {
      "codemirror_mode": {
        "name": "ipython",
        "version": 3
      },
      "file_extension": ".py",
      "mimetype": "text/x-python",
      "name": "python",
      "nbconvert_exporter": "python",
      "pygments_lexer": "ipython3",
      "version": "3.11.3"
    }
  },
  "nbformat": 4,
  "nbformat_minor": 0
}
